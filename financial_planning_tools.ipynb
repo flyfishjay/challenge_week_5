{
 "cells": [
  {
   "cell_type": "markdown",
   "metadata": {},
   "source": [
    "# Financial Planning with APIs and Simulations\n",
    "\n",
    "In this Challenge, you’ll create two financial analysis tools by using a single Jupyter notebook:\n",
    "\n",
    "Part 1: A financial planner for emergencies. The members will be able to use this tool to visualize their current savings. The members can then determine if they have enough reserves for an emergency fund.\n",
    "\n",
    "Part 2: A financial planner for retirement. This tool will forecast the performance of their retirement portfolio in 30 years. To do this, the tool will make an Alpaca API call via the Alpaca SDK to get historical price data for use in Monte Carlo simulations.\n",
    "\n",
    "You’ll use the information from the Monte Carlo simulation to answer questions about the portfolio in your Jupyter notebook.\n",
    "\n"
   ]
  },
  {
   "cell_type": "code",
   "execution_count": 1,
   "metadata": {},
   "outputs": [],
   "source": [
    "# Import the required libraries and dependencies\n",
    "import os\n",
    "import requests\n",
    "import json\n",
    "import pandas as pd\n",
    "from dotenv import load_dotenv\n",
    "import alpaca_trade_api as tradeapi\n",
    "from MCForecastTools import MCSimulation\n",
    "\n",
    "%matplotlib inline"
   ]
  },
  {
   "cell_type": "code",
   "execution_count": 2,
   "metadata": {},
   "outputs": [
    {
     "data": {
      "text/plain": [
       "True"
      ]
     },
     "execution_count": 2,
     "metadata": {},
     "output_type": "execute_result"
    }
   ],
   "source": [
    "# Load the environment variables from the .env file\n",
    "#by calling the load_dotenv function\n",
    "load_dotenv()"
   ]
  },
  {
   "cell_type": "markdown",
   "metadata": {},
   "source": [
    "## Part 1: Create a Financial Planner for Emergencies"
   ]
  },
  {
   "cell_type": "markdown",
   "metadata": {},
   "source": [
    "### Evaluate the Cryptocurrency Wallet by Using the Requests Library\n",
    "\n",
    "In this section, you’ll determine the current value of a member’s cryptocurrency wallet. You’ll collect the current prices for the Bitcoin and Ethereum cryptocurrencies by using the Python Requests library. For the prototype, you’ll assume that the member holds the 1.2 Bitcoins (BTC) and 5.3 Ethereum coins (ETH). To do all this, complete the following steps:\n",
    "\n",
    "1. Create a variable named `monthly_income`, and set its value to `12000`.\n",
    "\n",
    "2. Use the Requests library to get the current price (in US dollars) of Bitcoin (BTC) and Ethereum (ETH) by using the API endpoints that the starter code supplies.\n",
    "\n",
    "3. Navigate the JSON response object to access the current price of each coin, and store each in a variable.\n",
    "\n",
    "    > **Hint** Note the specific identifier for each cryptocurrency in the API JSON response. The Bitcoin identifier is `1`, and the Ethereum identifier is `1027`.\n",
    "\n",
    "4. Calculate the value, in US dollars, of the current amount of each cryptocurrency and of the entire cryptocurrency wallet.\n",
    "\n"
   ]
  },
  {
   "cell_type": "code",
   "execution_count": 3,
   "metadata": {},
   "outputs": [],
   "source": [
    "# The current number of coins for each cryptocurrency asset held in the portfolio.\n",
    "btc_coins = 1.2\n",
    "eth_coins = 5.3"
   ]
  },
  {
   "cell_type": "markdown",
   "metadata": {},
   "source": [
    "#### Step 1: Create a variable named `monthly_income`, and set its value to `12000`."
   ]
  },
  {
   "cell_type": "code",
   "execution_count": 4,
   "metadata": {},
   "outputs": [],
   "source": [
    "# The monthly amount for the member's household income\n",
    "monthly_income = 12000"
   ]
  },
  {
   "cell_type": "markdown",
   "metadata": {},
   "source": [
    "#### Review the endpoint URLs for the API calls to Free Crypto API in order to get the current pricing information for both BTC and ETH."
   ]
  },
  {
   "cell_type": "code",
   "execution_count": 5,
   "metadata": {},
   "outputs": [],
   "source": [
    "# The Free Crypto API Call endpoint URLs for the held cryptocurrency assets\n",
    "btc_url = \"https://api.alternative.me/v2/ticker/Bitcoin/?convert=USD\"\n",
    "eth_url = \"https://api.alternative.me/v2/ticker/Ethereum/?convert=USD\""
   ]
  },
  {
   "cell_type": "markdown",
   "metadata": {},
   "source": [
    "#### Step 2. Use the Requests library to get the current price (in US dollars) of Bitcoin (BTC) and Ethereum (ETH) by using the API endpoints that the starter code supplied."
   ]
  },
  {
   "cell_type": "code",
   "execution_count": 6,
   "metadata": {},
   "outputs": [
    {
     "name": "stdout",
     "output_type": "stream",
     "text": [
      "{\n",
      "    \"data\": {\n",
      "        \"1\": {\n",
      "            \"circulating_supply\": 18854356,\n",
      "            \"id\": 1,\n",
      "            \"last_updated\": 1635200606,\n",
      "            \"max_supply\": 21000000,\n",
      "            \"name\": \"Bitcoin\",\n",
      "            \"quotes\": {\n",
      "                \"USD\": {\n",
      "                    \"market_cap\": 1189070753593,\n",
      "                    \"percent_change_1h\": -0.507750243955947,\n",
      "                    \"percent_change_24h\": 3.42576865019616,\n",
      "                    \"percent_change_7d\": 2.40701120864483,\n",
      "                    \"percentage_change_1h\": -0.507750243955947,\n",
      "                    \"percentage_change_24h\": 3.42576865019616,\n",
      "                    \"percentage_change_7d\": 2.40701120864483,\n",
      "                    \"price\": 63066.0,\n",
      "                    \"volume_24h\": 31701767398\n",
      "                }\n",
      "            },\n",
      "            \"rank\": 1,\n",
      "            \"symbol\": \"BTC\",\n",
      "            \"total_supply\": 18854356,\n",
      "            \"website_slug\": \"bitcoin\"\n",
      "        }\n",
      "    },\n",
      "    \"metadata\": {\n",
      "        \"error\": null,\n",
      "        \"num_cryptocurrencies\": 3105,\n",
      "        \"timestamp\": 1635200606\n",
      "    }\n",
      "}\n"
     ]
    }
   ],
   "source": [
    "# Using the Python requests library, make an API call to access the current price of BTC\n",
    "btc_response = requests.get(btc_url).json()\n",
    "\n",
    "\n",
    "# Use the json.dumps function to review the response data from the API call\n",
    "# Use the indent and sort_keys parameters to make the response object readable\n",
    "print(json.dumps(btc_response, indent=4, sort_keys =True))\n"
   ]
  },
  {
   "cell_type": "code",
   "execution_count": 7,
   "metadata": {},
   "outputs": [
    {
     "name": "stdout",
     "output_type": "stream",
     "text": [
      "{\n",
      "    \"data\": {\n",
      "        \"1027\": {\n",
      "            \"circulating_supply\": 118076265,\n",
      "            \"id\": 1027,\n",
      "            \"last_updated\": 1635200635,\n",
      "            \"max_supply\": 0,\n",
      "            \"name\": \"Ethereum\",\n",
      "            \"quotes\": {\n",
      "                \"USD\": {\n",
      "                    \"market_cap\": 497570861717,\n",
      "                    \"percent_change_1h\": -0.112460547927864,\n",
      "                    \"percent_change_24h\": 3.15351162513469,\n",
      "                    \"percent_change_7d\": 9.37000073485506,\n",
      "                    \"percentage_change_1h\": -0.112460547927864,\n",
      "                    \"percentage_change_24h\": 3.15351162513469,\n",
      "                    \"percentage_change_7d\": 9.37000073485506,\n",
      "                    \"price\": 4215.36,\n",
      "                    \"volume_24h\": 17034519706\n",
      "                }\n",
      "            },\n",
      "            \"rank\": 2,\n",
      "            \"symbol\": \"ETH\",\n",
      "            \"total_supply\": 118076265,\n",
      "            \"website_slug\": \"ethereum\"\n",
      "        }\n",
      "    },\n",
      "    \"metadata\": {\n",
      "        \"error\": null,\n",
      "        \"num_cryptocurrencies\": 3105,\n",
      "        \"timestamp\": 1635200635\n",
      "    }\n",
      "}\n"
     ]
    }
   ],
   "source": [
    "# Using the Python requests library, make an API call to access the current price ETH\n",
    "eth_response = requests.get(eth_url).json()\n",
    "\n",
    "# Use the json.dumps function to review the response data from the API call\n",
    "# Use the indent and sort_keys parameters to make the response object readable\n",
    "print(json.dumps(eth_response, indent=4, sort_keys =True))\n"
   ]
  },
  {
   "cell_type": "markdown",
   "metadata": {},
   "source": [
    "#### Step 3: Navigate the JSON response object to access the current price of each coin, and store each in a variable."
   ]
  },
  {
   "cell_type": "code",
   "execution_count": 11,
   "metadata": {},
   "outputs": [
    {
     "name": "stdout",
     "output_type": "stream",
     "text": [
      "63066.0\n"
     ]
    }
   ],
   "source": [
    "# Navigate the BTC response object to access the current price of BTC\n",
    "btc_price = btc_response['data']['1']['quotes']['USD']['price']\n",
    "\n",
    "# Print the current price of BTC\n",
    "print(btc_price)\n"
   ]
  },
  {
   "cell_type": "code",
   "execution_count": 10,
   "metadata": {},
   "outputs": [
    {
     "ename": "NameError",
     "evalue": "name 'price' is not defined",
     "output_type": "error",
     "traceback": [
      "\u001b[1;31m---------------------------------------------------------------------------\u001b[0m",
      "\u001b[1;31mNameError\u001b[0m                                 Traceback (most recent call last)",
      "\u001b[1;32m<ipython-input-10-dc1575caa0b0>\u001b[0m in \u001b[0;36m<module>\u001b[1;34m\u001b[0m\n\u001b[0;32m      3\u001b[0m \u001b[1;33m\u001b[0m\u001b[0m\n\u001b[0;32m      4\u001b[0m \u001b[1;31m# Print the current price of ETH\u001b[0m\u001b[1;33m\u001b[0m\u001b[1;33m\u001b[0m\u001b[1;33m\u001b[0m\u001b[0m\n\u001b[1;32m----> 5\u001b[1;33m \u001b[0mprice\u001b[0m\u001b[1;33m(\u001b[0m\u001b[0meth_price\u001b[0m\u001b[1;33m)\u001b[0m\u001b[1;33m\u001b[0m\u001b[1;33m\u001b[0m\u001b[0m\n\u001b[0m",
      "\u001b[1;31mNameError\u001b[0m: name 'price' is not defined"
     ]
    }
   ],
   "source": [
    "# Navigate the BTC response object to access the current price of ETH\n",
    "eth_price = eth_response['data']['1027']['quotes']['USD']['price']\n",
    "\n",
    "# Print the current price of ETH\n",
    "price(eth_price)\n",
    "\n"
   ]
  },
  {
   "cell_type": "code",
   "execution_count": null,
   "metadata": {},
   "outputs": [],
   "source": [
    "#unfortunatly I do not know why this is causing an error unfortunatly.  It brings back the price in the code below when I use the variable created in the above code"
   ]
  },
  {
   "cell_type": "markdown",
   "metadata": {},
   "source": [
    "### Step 4: Calculate the value, in US dollars, of the current amount of each cryptocurrency and of the entire cryptocurrency wallet."
   ]
  },
  {
   "cell_type": "code",
   "execution_count": 12,
   "metadata": {},
   "outputs": [
    {
     "name": "stdout",
     "output_type": "stream",
     "text": [
      "75679.2\n"
     ]
    }
   ],
   "source": [
    "# Compute the current value of the BTC holding \n",
    "btc_value = btc_coins * btc_price\n",
    "\n",
    "# Print current value of your holding in BTC\n",
    "print(btc_value)\n"
   ]
  },
  {
   "cell_type": "code",
   "execution_count": 15,
   "metadata": {},
   "outputs": [
    {
     "name": "stdout",
     "output_type": "stream",
     "text": [
      "22341.407999999996\n"
     ]
    }
   ],
   "source": [
    "# Compute the current value of the ETH holding \n",
    "eth_value = eth_coins * eth_price\n",
    "\n",
    "# Print current value of your holding in ETH\n",
    "print(eth_value)\n"
   ]
  },
  {
   "cell_type": "code",
   "execution_count": 16,
   "metadata": {},
   "outputs": [
    {
     "name": "stdout",
     "output_type": "stream",
     "text": [
      "98020.608\n"
     ]
    }
   ],
   "source": [
    "# Compute the total value of the cryptocurrency wallet\n",
    "# Add the value of the BTC holding to the value of the ETH holding\n",
    "total_crypto_wallet = btc_value + eth_value\n",
    "\n",
    "# Print current cryptocurrency wallet balance\n",
    "print(total_crypto_wallet)\n"
   ]
  },
  {
   "cell_type": "markdown",
   "metadata": {},
   "source": [
    "### Evaluate the Stock and Bond Holdings by Using the Alpaca SDK\n",
    "\n",
    "In this section, you’ll determine the current value of a member’s stock and bond holdings. You’ll make an API call to Alpaca via the Alpaca SDK to get the current closing prices of the SPDR S&P 500 ETF Trust (ticker: SPY) and of the iShares Core US Aggregate Bond ETF (ticker: AGG). For the prototype, assume that the member holds 110 shares of SPY, which represents the stock portion of their portfolio, and 200 shares of AGG, which represents the bond portion. To do all this, complete the following steps:\n",
    "\n",
    "1. In the `Starter_Code` folder, create an environment file (`.env`) to store the values of your Alpaca API key and Alpaca secret key.\n",
    "\n",
    "2. Set the variables for the Alpaca API and secret keys. Using the Alpaca SDK, create the Alpaca `tradeapi.REST` object. In this object, include the parameters for the Alpaca API key, the secret key, and the version number.\n",
    "\n",
    "3. Set the following parameters for the Alpaca API call:\n",
    "\n",
    "    - `tickers`: Use the tickers for the member’s stock and bond holdings.\n",
    "\n",
    "    - `timeframe`: Use a time frame of one day.\n",
    "\n",
    "    - `start_date` and `end_date`: Use the same date for these parameters, and format them with the date of the previous weekday (or `2020-08-07`). This is because you want the one closing price for the most-recent trading day.\n",
    "\n",
    "4. Get the current closing prices for `SPY` and `AGG` by using the Alpaca `get_barset` function. Format the response as a Pandas DataFrame by including the `df` property at the end of the `get_barset` function.\n",
    "\n",
    "5. Navigating the Alpaca response DataFrame, select the `SPY` and `AGG` closing prices, and store them as variables.\n",
    "\n",
    "6. Calculate the value, in US dollars, of the current amount of shares in each of the stock and bond portions of the portfolio, and print the results.\n"
   ]
  },
  {
   "cell_type": "markdown",
   "metadata": {},
   "source": [
    "#### Review the total number of shares held in both (SPY) and (AGG)."
   ]
  },
  {
   "cell_type": "code",
   "execution_count": 17,
   "metadata": {},
   "outputs": [],
   "source": [
    "# Current amount of shares held in both the stock (SPY) and bond (AGG) portion of the portfolio.\n",
    "spy_shares = 110\n",
    "agg_shares = 200\n"
   ]
  },
  {
   "cell_type": "markdown",
   "metadata": {},
   "source": [
    "#### Step 1: In the `Starter_Code` folder, create an environment file (`.env`) to store the values of your Alpaca API key and Alpaca secret key."
   ]
  },
  {
   "cell_type": "markdown",
   "metadata": {},
   "source": [
    "#### Step 2: Set the variables for the Alpaca API and secret keys. Using the Alpaca SDK, create the Alpaca `tradeapi.REST` object. In this object, include the parameters for the Alpaca API key, the secret key, and the version number."
   ]
  },
  {
   "cell_type": "code",
   "execution_count": 18,
   "metadata": {},
   "outputs": [],
   "source": [
    "# Set the variables for the Alpaca API and secret keys\n",
    "alpaca_api_key = os.getenv(\"ALPACA_API_KEY\")\n",
    "alpaca_secret_key = os.getenv(\"ALPACA_SECRET_KEY\")\n",
    "type(alpaca_secret_key )\n",
    "\n",
    "\n",
    "# Create the Alpaca tradeapi.REST object\n",
    "alpaca = tradeapi.REST(\n",
    "    alpaca_api_key,\n",
    "    alpaca_secret_key,\n",
    "    api_version= 'v2'\n",
    ")\n"
   ]
  },
  {
   "cell_type": "markdown",
   "metadata": {},
   "source": [
    "#### Step 3: Set the following parameters for the Alpaca API call:\n",
    "\n",
    "- `tickers`: Use the tickers for the member’s stock and bond holdings.\n",
    "\n",
    "- `timeframe`: Use a time frame of one day.\n",
    "\n",
    "- `start_date` and `end_date`: Use the same date for these parameters, and format them with the date of the previous weekday (or `2020-08-07`). This is because you want the one closing price for the most-recent trading day.\n"
   ]
  },
  {
   "cell_type": "code",
   "execution_count": 79,
   "metadata": {},
   "outputs": [],
   "source": [
    "# Set the tickers for both the bond and stock portion of the portfolio\n",
    "tickers = ['AGG', 'SPY']\n",
    "\n",
    "# Set timeframe to 1D \n",
    "timeframe ='1D'\n",
    "\n",
    "# Format current date as ISO format\n",
    "# Set both the start and end date at the date of your prior weekday \n",
    "# This will give you the closing price of the previous trading day\n",
    "# Alternatively you can use a start and end date of 2020-08-07\n",
    "\n",
    "start_date = pd.Timestamp(\"2020-08-07\", tz=\"America/New_York\").isoformat()\n",
    "end_date = pd.Timestamp(\"2020-08-07\", tz=\"America/New_York\").isoformat()\n"
   ]
  },
  {
   "cell_type": "markdown",
   "metadata": {},
   "source": [
    "#### Step 4: Get the current closing prices for `SPY` and `AGG` by using the Alpaca `get_barset` function. Format the response as a Pandas DataFrame by including the `df` property at the end of the `get_barset` function."
   ]
  },
  {
   "cell_type": "code",
   "execution_count": 80,
   "metadata": {},
   "outputs": [
    {
     "data": {
      "text/html": [
       "<div>\n",
       "<style scoped>\n",
       "    .dataframe tbody tr th:only-of-type {\n",
       "        vertical-align: middle;\n",
       "    }\n",
       "\n",
       "    .dataframe tbody tr th {\n",
       "        vertical-align: top;\n",
       "    }\n",
       "\n",
       "    .dataframe thead tr th {\n",
       "        text-align: left;\n",
       "    }\n",
       "\n",
       "    .dataframe thead tr:last-of-type th {\n",
       "        text-align: right;\n",
       "    }\n",
       "</style>\n",
       "<table border=\"1\" class=\"dataframe\">\n",
       "  <thead>\n",
       "    <tr>\n",
       "      <th></th>\n",
       "      <th colspan=\"5\" halign=\"left\">AGG</th>\n",
       "      <th colspan=\"5\" halign=\"left\">SPY</th>\n",
       "    </tr>\n",
       "    <tr>\n",
       "      <th></th>\n",
       "      <th>open</th>\n",
       "      <th>high</th>\n",
       "      <th>low</th>\n",
       "      <th>close</th>\n",
       "      <th>volume</th>\n",
       "      <th>open</th>\n",
       "      <th>high</th>\n",
       "      <th>low</th>\n",
       "      <th>close</th>\n",
       "      <th>volume</th>\n",
       "    </tr>\n",
       "    <tr>\n",
       "      <th>time</th>\n",
       "      <th></th>\n",
       "      <th></th>\n",
       "      <th></th>\n",
       "      <th></th>\n",
       "      <th></th>\n",
       "      <th></th>\n",
       "      <th></th>\n",
       "      <th></th>\n",
       "      <th></th>\n",
       "      <th></th>\n",
       "    </tr>\n",
       "  </thead>\n",
       "  <tbody>\n",
       "    <tr>\n",
       "      <th>2020-08-07 00:00:00-04:00</th>\n",
       "      <td>119.66</td>\n",
       "      <td>119.73</td>\n",
       "      <td>119.395</td>\n",
       "      <td>119.445</td>\n",
       "      <td>8830420</td>\n",
       "      <td>333.28</td>\n",
       "      <td>334.88</td>\n",
       "      <td>332.3</td>\n",
       "      <td>334.55</td>\n",
       "      <td>98710236</td>\n",
       "    </tr>\n",
       "  </tbody>\n",
       "</table>\n",
       "</div>"
      ],
      "text/plain": [
       "                              AGG                                        SPY  \\\n",
       "                             open    high      low    close   volume    open   \n",
       "time                                                                           \n",
       "2020-08-07 00:00:00-04:00  119.66  119.73  119.395  119.445  8830420  333.28   \n",
       "\n",
       "                                                            \n",
       "                             high    low   close    volume  \n",
       "time                                                        \n",
       "2020-08-07 00:00:00-04:00  334.88  332.3  334.55  98710236  "
      ]
     },
     "execution_count": 80,
     "metadata": {},
     "output_type": "execute_result"
    }
   ],
   "source": [
    "# Use the Alpaca get_barset function to get current closing prices the portfolio\n",
    "# Be sure to set the `df` property after the function to format the response object as a DataFrame\n",
    "prices_df = alpaca.get_barset(\n",
    "    tickers, \n",
    "    timeframe,\n",
    "    start = start_date, \n",
    "    end = end_date,\n",
    ").df\n",
    "\n",
    "# Review the first 5 rows of the Alpaca DataFrame\n",
    "prices_df.head()\n"
   ]
  },
  {
   "cell_type": "markdown",
   "metadata": {},
   "source": [
    "#### Step 5: Navigating the Alpaca response DataFrame, select the `SPY` and `AGG` closing prices, and store them as variables."
   ]
  },
  {
   "cell_type": "code",
   "execution_count": 81,
   "metadata": {},
   "outputs": [
    {
     "name": "stdout",
     "output_type": "stream",
     "text": [
      "119.445\n"
     ]
    }
   ],
   "source": [
    "# Access the closing price for AGG from the Alpaca DataFrame\n",
    "# Converting the value to a floating point number\n",
    "\n",
    "agg_close_price = float(prices_df['AGG']['close'])\n",
    "\n",
    "\n",
    "# Print the AGG closing price\n",
    "print(agg_close_price)\n"
   ]
  },
  {
   "cell_type": "code",
   "execution_count": 82,
   "metadata": {},
   "outputs": [
    {
     "name": "stdout",
     "output_type": "stream",
     "text": [
      "334.55\n"
     ]
    }
   ],
   "source": [
    "# Access the closing price for SPY from the Alpaca DataFrame\n",
    "# Converting the value to a floating point number\n",
    "spy_close_price =  float(prices_df['SPY']['close'])\n",
    "\n",
    "# Print the SPY closing price\n",
    "print(spy_close_price)\n"
   ]
  },
  {
   "cell_type": "markdown",
   "metadata": {},
   "source": [
    "#### Step 6: Calculate the value, in US dollars, of the current amount of shares in each of the stock and bond portions of the portfolio, and print the results."
   ]
  },
  {
   "cell_type": "code",
   "execution_count": 83,
   "metadata": {},
   "outputs": [
    {
     "name": "stdout",
     "output_type": "stream",
     "text": [
      "23889.0\n"
     ]
    }
   ],
   "source": [
    "# Calculate the current value of the bond portion of the portfolio\n",
    "agg_value = agg_close_price*agg_shares\n",
    "\n",
    "# Print the current value of the bond portfolio\n",
    "print(agg_value)\n"
   ]
  },
  {
   "cell_type": "code",
   "execution_count": 84,
   "metadata": {},
   "outputs": [
    {
     "name": "stdout",
     "output_type": "stream",
     "text": [
      "36800.5\n"
     ]
    }
   ],
   "source": [
    "# Calculate the current value of the stock portion of the portfolio\n",
    "spy_value = spy_close_price * spy_shares\n",
    "\n",
    "# Print the current value of the stock portfolio\n",
    "print(spy_value)\n"
   ]
  },
  {
   "cell_type": "code",
   "execution_count": 85,
   "metadata": {},
   "outputs": [
    {
     "name": "stdout",
     "output_type": "stream",
     "text": [
      "60689.5\n"
     ]
    }
   ],
   "source": [
    "# Calculate the total value of the stock and bond portion of the portfolio\n",
    "total_stocks_bonds = spy_value + agg_value\n",
    "\n",
    "# Print the current balance of the stock and bond portion of the portfolio\n",
    "print(total_stocks_bonds)"
   ]
  },
  {
   "cell_type": "code",
   "execution_count": 86,
   "metadata": {},
   "outputs": [
    {
     "name": "stdout",
     "output_type": "stream",
     "text": [
      "158710.108\n"
     ]
    }
   ],
   "source": [
    "# Calculate the total value of the member's entire savings portfolio\n",
    "# Add the value of the cryptocurrency walled to the value of the total stocks and bonds\n",
    "total_portfolio = total_crypto_wallet + total_stocks_bonds\n",
    "\n",
    "# Print current cryptocurrency wallet balance\n",
    "print(total_portfolio)"
   ]
  },
  {
   "cell_type": "markdown",
   "metadata": {},
   "source": [
    "### Evaluate the Emergency Fund\n",
    "\n",
    "In this section, you’ll use the valuations for the cryptocurrency wallet and for the stock and bond portions of the portfolio to determine if the credit union member has enough savings to build an emergency fund into their financial plan. To do this, complete the following steps:\n",
    "\n",
    "1. Create a Python list named `savings_data` that has two elements. The first element contains the total value of the cryptocurrency wallet. The second element contains the total value of the stock and bond portions of the portfolio.\n",
    "\n",
    "2. Use the `savings_data` list to create a Pandas DataFrame named `savings_df`, and then display this DataFrame. The function to create the DataFrame should take the following three parameters:\n",
    "\n",
    "    - `savings_data`: Use the list that you just created.\n",
    "\n",
    "    - `columns`: Set this parameter equal to a Python list with a single value called `amount`.\n",
    "\n",
    "    - `index`: Set this parameter equal to a Python list with the values of `crypto` and `stock/bond`.\n",
    "\n",
    "3. Use the `savings_df` DataFrame to plot a pie chart that visualizes the composition of the member’s portfolio. The y-axis of the pie chart uses `amount`. Be sure to add a title.\n",
    "\n",
    "4. Using Python, determine if the current portfolio has enough to create an emergency fund as part of the member’s financial plan. Ideally, an emergency fund should equal to three times the member’s monthly income. To do this, implement the following steps:\n",
    "\n",
    "    1. Create a variable named `emergency_fund_value`, and set it equal to three times the value of the member’s `monthly_income` of $12000. (You set this earlier in Part 1).\n",
    "\n",
    "    2. Create a series of three if statements to determine if the member’s total portfolio is large enough to fund the emergency portfolio:\n",
    "\n",
    "        1. If the total portfolio value is greater than the emergency fund value, display a message congratulating the member for having enough money in this fund.\n",
    "\n",
    "        2. Else if the total portfolio value is equal to the emergency fund value, display a message congratulating the member on reaching this important financial goal.\n",
    "\n",
    "        3. Else the total portfolio is less than the emergency fund value, so display a message showing how many dollars away the member is from reaching the goal. (Subtract the total portfolio value from the emergency fund value.)\n"
   ]
  },
  {
   "cell_type": "markdown",
   "metadata": {},
   "source": [
    "#### Step 1: Create a Python list named `savings_data` that has two elements. The first element contains the total value of the cryptocurrency wallet. The second element contains the total value of the stock and bond portions of the portfolio."
   ]
  },
  {
   "cell_type": "code",
   "execution_count": 87,
   "metadata": {},
   "outputs": [
    {
     "name": "stdout",
     "output_type": "stream",
     "text": [
      "[98020.608, 60689.5]\n"
     ]
    }
   ],
   "source": [
    "# Consolidate financial assets data into a Python list\n",
    "savings_data  = [total_crypto_wallet, total_stocks_bonds]\n",
    "\n",
    "# Review the Python list savings_data\n",
    "print(savings_data)"
   ]
  },
  {
   "cell_type": "markdown",
   "metadata": {},
   "source": [
    "#### Step 2: Use the `savings_data` list to create a Pandas DataFrame named `savings_df`, and then display this DataFrame. The function to create the DataFrame should take the following three parameters:\n",
    "\n",
    "- `savings_data`: Use the list that you just created.\n",
    "\n",
    "- `columns`: Set this parameter equal to a Python list with a single value called `amount`.\n",
    "\n",
    "- `index`: Set this parameter equal to a Python list with the values of `crypto` and `stock/bond`.\n"
   ]
  },
  {
   "cell_type": "code",
   "execution_count": 88,
   "metadata": {},
   "outputs": [
    {
     "data": {
      "text/html": [
       "<div>\n",
       "<style scoped>\n",
       "    .dataframe tbody tr th:only-of-type {\n",
       "        vertical-align: middle;\n",
       "    }\n",
       "\n",
       "    .dataframe tbody tr th {\n",
       "        vertical-align: top;\n",
       "    }\n",
       "\n",
       "    .dataframe thead th {\n",
       "        text-align: right;\n",
       "    }\n",
       "</style>\n",
       "<table border=\"1\" class=\"dataframe\">\n",
       "  <thead>\n",
       "    <tr style=\"text-align: right;\">\n",
       "      <th></th>\n",
       "      <th>amount</th>\n",
       "    </tr>\n",
       "  </thead>\n",
       "  <tbody>\n",
       "    <tr>\n",
       "      <th>crypto</th>\n",
       "      <td>98020.608</td>\n",
       "    </tr>\n",
       "    <tr>\n",
       "      <th>stock/bond</th>\n",
       "      <td>60689.500</td>\n",
       "    </tr>\n",
       "  </tbody>\n",
       "</table>\n",
       "</div>"
      ],
      "text/plain": [
       "               amount\n",
       "crypto      98020.608\n",
       "stock/bond  60689.500"
      ]
     },
     "execution_count": 88,
     "metadata": {},
     "output_type": "execute_result"
    }
   ],
   "source": [
    "# Create a Pandas DataFrame called savings_df \n",
    "\n",
    "\n",
    "savings_df = pd.DataFrame(savings_data, columns = ['amount'], index = ['crypto', 'stock/bond'])\n",
    "\n",
    "\n",
    "\n",
    "# Display the savings_df DataFrame\n",
    "savings_df\n"
   ]
  },
  {
   "cell_type": "markdown",
   "metadata": {},
   "source": [
    "#### Step 3: Use the `savings_df` DataFrame to plot a pie chart that visualizes the composition of the member’s portfolio. The y-axis of the pie chart uses `amount`. Be sure to add a title."
   ]
  },
  {
   "cell_type": "code",
   "execution_count": 89,
   "metadata": {},
   "outputs": [
    {
     "data": {
      "text/plain": [
       "<AxesSubplot:title={'center':'Crytpo vs Stock/Bond Portfolios'}, ylabel='amount'>"
      ]
     },
     "execution_count": 89,
     "metadata": {},
     "output_type": "execute_result"
    },
    {
     "data": {
      "image/png": "[encoded data removed]",
      "text/plain": [
       "<Figure size 720x360 with 1 Axes>"
      ]
     },
     "metadata": {},
     "output_type": "display_data"
    }
   ],
   "source": [
    "# Plot the total value of the member's portfolio (crypto and stock/bond) in a pie chart\n",
    "\n",
    "\n",
    "\n",
    "savings_df.plot.pie(y='amount', figsize = (10,5), title = 'Crytpo vs Stock/Bond Portfolios')\n"
   ]
  },
  {
   "cell_type": "markdown",
   "metadata": {},
   "source": [
    "#### Step 4: Using Python, determine if the current portfolio has enough to create an emergency fund as part of the member’s financial plan. Ideally, an emergency fund should equal to three times the member’s monthly income. To do this, implement the following steps:\n",
    "\n",
    "Step 1. Create a variable named `emergency_fund_value`, and set it equal to three times the value of the member’s `monthly_income` of 12000. (You set this earlier in Part 1).\n",
    "\n",
    "Step 2. Create a series of three if statements to determine if the member’s total portfolio is large enough to fund the emergency portfolio:\n",
    "\n",
    "* If the total portfolio value is greater than the emergency fund value, display a message congratulating the member for having enough money in this fund.\n",
    "\n",
    "* Else if the total portfolio value is equal to the emergency fund value, display a message congratulating the member on reaching this important financial goal.\n",
    "\n",
    "* Else the total portfolio is less than the emergency fund value, so display a message showing how many dollars away the member is from reaching the goal. (Subtract the total portfolio value from the emergency fund value.)\n"
   ]
  },
  {
   "cell_type": "markdown",
   "metadata": {},
   "source": [
    "##### Step 4-1: Create a variable named `emergency_fund_value`, and set it equal to three times the value of the member’s `monthly_income` of 12000. (You set this earlier in Part 1)."
   ]
  },
  {
   "cell_type": "code",
   "execution_count": 90,
   "metadata": {},
   "outputs": [],
   "source": [
    "# Create a variable named emergency_fund_value\n",
    "emergency_fund_value = 3 * monthly_income\n"
   ]
  },
  {
   "cell_type": "markdown",
   "metadata": {},
   "source": [
    "##### Step 4-2: Create a series of three if statements to determine if the member’s total portfolio is large enough to fund the emergency portfolio:\n",
    "\n",
    "* If the total portfolio value is greater than the emergency fund value, display a message congratulating the member for having enough money in this fund.\n",
    "\n",
    "* Else if the total portfolio value is equal to the emergency fund value, display a message congratulating the member on reaching this important financial goal.\n",
    "\n",
    "* Else the total portfolio is less than the emergency fund value, so display a message showing how many dollars away the member is from reaching the goal. (Subtract the total portfolio value from the emergency fund value.)"
   ]
  },
  {
   "cell_type": "code",
   "execution_count": 91,
   "metadata": {},
   "outputs": [
    {
     "name": "stdout",
     "output_type": "stream",
     "text": [
      "Congats!  You are flooded with money!\n"
     ]
    }
   ],
   "source": [
    "# Evaluate the possibility of creating an emergency fund with 3 conditions:\n",
    "\n",
    "if total_portfolio > emergency_fund_value:\n",
    "    print(\"Congats!  You are flooded with money!\")\n",
    "elif total_portfolio == emergency_fund_value:\n",
    "    print('Congrats on reaching this terrific goal')\n",
    "elif total_portfolio < emergency_fund_value:\n",
    "    print(f'you are ${total_portfolio - emergency_fund_value} awayw from your goal')\n"
   ]
  },
  {
   "cell_type": "markdown",
   "metadata": {},
   "source": [
    "## Part 2: Create a Financial Planner for Retirement"
   ]
  },
  {
   "cell_type": "markdown",
   "metadata": {},
   "source": [
    "### Create the Monte Carlo Simulation\n",
    "\n",
    "In this section, you’ll use the MCForecastTools library to create a Monte Carlo simulation for the member’s savings portfolio. To do this, complete the following steps:\n",
    "\n",
    "1. Make an API call via the Alpaca SDK to get 3 years of historical closing prices for a traditional 60/40 portfolio split: 60% stocks (SPY) and 40% bonds (AGG).\n",
    "\n",
    "2. Run a Monte Carlo simulation of 500 samples and 30 years for the 60/40 portfolio, and then plot the results.The following image shows the overlay line plot resulting from a simulation with these characteristics. However, because a random number generator is used to run each live Monte Carlo simulation, your image will differ slightly from this exact image:\n",
    "\n",
    "![A screenshot depicts the resulting plot.](Images/5-4-monte-carlo-line-plot.png)\n",
    "\n",
    "3. Plot the probability distribution of the Monte Carlo simulation. Plot the probability distribution of the Monte Carlo simulation. The following image shows the histogram plot resulting from a simulation with these characteristics. However, because a random number generator is used to run each live Monte Carlo simulation, your image will differ slightly from this exact image:\n",
    "\n",
    "![A screenshot depicts the histogram plot.](Images/5-4-monte-carlo-histogram.png)\n",
    "\n",
    "4. Generate the summary statistics for the Monte Carlo simulation.\n",
    "\n"
   ]
  },
  {
   "cell_type": "markdown",
   "metadata": {},
   "source": [
    "#### Step 1: Make an API call via the Alpaca SDK to get 3 years of historical closing prices for a traditional 60/40 portfolio split: 60% stocks (SPY) and 40% bonds (AGG)."
   ]
  },
  {
   "cell_type": "code",
   "execution_count": 95,
   "metadata": {},
   "outputs": [],
   "source": [
    "# Set start and end dates of 3 years back from your current date\n",
    "# Alternatively, you can use an end date of 2020-08-07 and work 3 years back from that date \n",
    "\n",
    "\n",
    "start_date = pd.Timestamp(\"2018-10-22\", tz=\"America/New_York\").isoformat()\n",
    "end_date = pd.Timestamp(\"2021-10-22\", tz=\"America/New_York\").isoformat()\n",
    "\n",
    "\n",
    "# Set number of rows to 1000 to retrieve the maximum amount of rows\n",
    "# YOUR CODE HERE"
   ]
  },
  {
   "cell_type": "code",
   "execution_count": 96,
   "metadata": {},
   "outputs": [
    {
     "data": {
      "text/html": [
       "<div>\n",
       "<style scoped>\n",
       "    .dataframe tbody tr th:only-of-type {\n",
       "        vertical-align: middle;\n",
       "    }\n",
       "\n",
       "    .dataframe tbody tr th {\n",
       "        vertical-align: top;\n",
       "    }\n",
       "\n",
       "    .dataframe thead tr th {\n",
       "        text-align: left;\n",
       "    }\n",
       "\n",
       "    .dataframe thead tr:last-of-type th {\n",
       "        text-align: right;\n",
       "    }\n",
       "</style>\n",
       "<table border=\"1\" class=\"dataframe\">\n",
       "  <thead>\n",
       "    <tr>\n",
       "      <th></th>\n",
       "      <th colspan=\"5\" halign=\"left\">AGG</th>\n",
       "      <th colspan=\"5\" halign=\"left\">SPY</th>\n",
       "    </tr>\n",
       "    <tr>\n",
       "      <th></th>\n",
       "      <th>open</th>\n",
       "      <th>high</th>\n",
       "      <th>low</th>\n",
       "      <th>close</th>\n",
       "      <th>volume</th>\n",
       "      <th>open</th>\n",
       "      <th>high</th>\n",
       "      <th>low</th>\n",
       "      <th>close</th>\n",
       "      <th>volume</th>\n",
       "    </tr>\n",
       "    <tr>\n",
       "      <th>time</th>\n",
       "      <th></th>\n",
       "      <th></th>\n",
       "      <th></th>\n",
       "      <th></th>\n",
       "      <th></th>\n",
       "      <th></th>\n",
       "      <th></th>\n",
       "      <th></th>\n",
       "      <th></th>\n",
       "      <th></th>\n",
       "    </tr>\n",
       "  </thead>\n",
       "  <tbody>\n",
       "    <tr>\n",
       "      <th>2021-06-03 00:00:00-04:00</th>\n",
       "      <td>114.31</td>\n",
       "      <td>114.46</td>\n",
       "      <td>114.21</td>\n",
       "      <td>114.210</td>\n",
       "      <td>3270096</td>\n",
       "      <td>417.87</td>\n",
       "      <td>419.99</td>\n",
       "      <td>416.2800</td>\n",
       "      <td>418.86</td>\n",
       "      <td>51582905</td>\n",
       "    </tr>\n",
       "    <tr>\n",
       "      <th>2021-06-04 00:00:00-04:00</th>\n",
       "      <td>114.39</td>\n",
       "      <td>114.67</td>\n",
       "      <td>114.22</td>\n",
       "      <td>114.665</td>\n",
       "      <td>4334878</td>\n",
       "      <td>420.75</td>\n",
       "      <td>422.92</td>\n",
       "      <td>418.8422</td>\n",
       "      <td>422.57</td>\n",
       "      <td>45129316</td>\n",
       "    </tr>\n",
       "    <tr>\n",
       "      <th>2021-06-07 00:00:00-04:00</th>\n",
       "      <td>113.97</td>\n",
       "      <td>114.64</td>\n",
       "      <td>113.97</td>\n",
       "      <td>114.595</td>\n",
       "      <td>3639918</td>\n",
       "      <td>422.59</td>\n",
       "      <td>422.78</td>\n",
       "      <td>421.1900</td>\n",
       "      <td>422.23</td>\n",
       "      <td>41442963</td>\n",
       "    </tr>\n",
       "    <tr>\n",
       "      <th>2021-06-08 00:00:00-04:00</th>\n",
       "      <td>114.84</td>\n",
       "      <td>114.87</td>\n",
       "      <td>114.78</td>\n",
       "      <td>114.820</td>\n",
       "      <td>3951702</td>\n",
       "      <td>423.11</td>\n",
       "      <td>423.21</td>\n",
       "      <td>420.3200</td>\n",
       "      <td>422.27</td>\n",
       "      <td>40131441</td>\n",
       "    </tr>\n",
       "    <tr>\n",
       "      <th>2021-06-09 00:00:00-04:00</th>\n",
       "      <td>115.43</td>\n",
       "      <td>115.43</td>\n",
       "      <td>114.97</td>\n",
       "      <td>115.050</td>\n",
       "      <td>3418086</td>\n",
       "      <td>423.18</td>\n",
       "      <td>423.26</td>\n",
       "      <td>421.4100</td>\n",
       "      <td>421.62</td>\n",
       "      <td>38368598</td>\n",
       "    </tr>\n",
       "  </tbody>\n",
       "</table>\n",
       "</div>"
      ],
      "text/plain": [
       "                              AGG                                       SPY  \\\n",
       "                             open    high     low    close   volume    open   \n",
       "time                                                                          \n",
       "2021-06-03 00:00:00-04:00  114.31  114.46  114.21  114.210  3270096  417.87   \n",
       "2021-06-04 00:00:00-04:00  114.39  114.67  114.22  114.665  4334878  420.75   \n",
       "2021-06-07 00:00:00-04:00  113.97  114.64  113.97  114.595  3639918  422.59   \n",
       "2021-06-08 00:00:00-04:00  114.84  114.87  114.78  114.820  3951702  423.11   \n",
       "2021-06-09 00:00:00-04:00  115.43  115.43  114.97  115.050  3418086  423.18   \n",
       "\n",
       "                                                               \n",
       "                             high       low   close    volume  \n",
       "time                                                           \n",
       "2021-06-03 00:00:00-04:00  419.99  416.2800  418.86  51582905  \n",
       "2021-06-04 00:00:00-04:00  422.92  418.8422  422.57  45129316  \n",
       "2021-06-07 00:00:00-04:00  422.78  421.1900  422.23  41442963  \n",
       "2021-06-08 00:00:00-04:00  423.21  420.3200  422.27  40131441  \n",
       "2021-06-09 00:00:00-04:00  423.26  421.4100  421.62  38368598  "
      ]
     },
     "metadata": {},
     "output_type": "display_data"
    },
    {
     "data": {
      "text/html": [
       "<div>\n",
       "<style scoped>\n",
       "    .dataframe tbody tr th:only-of-type {\n",
       "        vertical-align: middle;\n",
       "    }\n",
       "\n",
       "    .dataframe tbody tr th {\n",
       "        vertical-align: top;\n",
       "    }\n",
       "\n",
       "    .dataframe thead tr th {\n",
       "        text-align: left;\n",
       "    }\n",
       "\n",
       "    .dataframe thead tr:last-of-type th {\n",
       "        text-align: right;\n",
       "    }\n",
       "</style>\n",
       "<table border=\"1\" class=\"dataframe\">\n",
       "  <thead>\n",
       "    <tr>\n",
       "      <th></th>\n",
       "      <th colspan=\"5\" halign=\"left\">AGG</th>\n",
       "      <th colspan=\"5\" halign=\"left\">SPY</th>\n",
       "    </tr>\n",
       "    <tr>\n",
       "      <th></th>\n",
       "      <th>open</th>\n",
       "      <th>high</th>\n",
       "      <th>low</th>\n",
       "      <th>close</th>\n",
       "      <th>volume</th>\n",
       "      <th>open</th>\n",
       "      <th>high</th>\n",
       "      <th>low</th>\n",
       "      <th>close</th>\n",
       "      <th>volume</th>\n",
       "    </tr>\n",
       "    <tr>\n",
       "      <th>time</th>\n",
       "      <th></th>\n",
       "      <th></th>\n",
       "      <th></th>\n",
       "      <th></th>\n",
       "      <th></th>\n",
       "      <th></th>\n",
       "      <th></th>\n",
       "      <th></th>\n",
       "      <th></th>\n",
       "      <th></th>\n",
       "    </tr>\n",
       "  </thead>\n",
       "  <tbody>\n",
       "    <tr>\n",
       "      <th>2021-10-18 00:00:00-04:00</th>\n",
       "      <td>114.33</td>\n",
       "      <td>114.5600</td>\n",
       "      <td>114.2500</td>\n",
       "      <td>114.49</td>\n",
       "      <td>5145953</td>\n",
       "      <td>443.97</td>\n",
       "      <td>447.550</td>\n",
       "      <td>443.27</td>\n",
       "      <td>447.22</td>\n",
       "      <td>51994387</td>\n",
       "    </tr>\n",
       "    <tr>\n",
       "      <th>2021-10-19 00:00:00-04:00</th>\n",
       "      <td>114.37</td>\n",
       "      <td>114.3700</td>\n",
       "      <td>114.1600</td>\n",
       "      <td>114.18</td>\n",
       "      <td>3999066</td>\n",
       "      <td>448.92</td>\n",
       "      <td>450.700</td>\n",
       "      <td>448.27</td>\n",
       "      <td>450.68</td>\n",
       "      <td>40790864</td>\n",
       "    </tr>\n",
       "    <tr>\n",
       "      <th>2021-10-20 00:00:00-04:00</th>\n",
       "      <td>114.17</td>\n",
       "      <td>114.2900</td>\n",
       "      <td>114.0600</td>\n",
       "      <td>114.07</td>\n",
       "      <td>5881766</td>\n",
       "      <td>451.13</td>\n",
       "      <td>452.732</td>\n",
       "      <td>451.01</td>\n",
       "      <td>452.39</td>\n",
       "      <td>41594298</td>\n",
       "    </tr>\n",
       "    <tr>\n",
       "      <th>2021-10-21 00:00:00-04:00</th>\n",
       "      <td>114.01</td>\n",
       "      <td>114.0400</td>\n",
       "      <td>113.8423</td>\n",
       "      <td>113.85</td>\n",
       "      <td>4741154</td>\n",
       "      <td>451.76</td>\n",
       "      <td>453.829</td>\n",
       "      <td>451.31</td>\n",
       "      <td>453.61</td>\n",
       "      <td>33945007</td>\n",
       "    </tr>\n",
       "    <tr>\n",
       "      <th>2021-10-22 00:00:00-04:00</th>\n",
       "      <td>113.97</td>\n",
       "      <td>114.1399</td>\n",
       "      <td>113.8950</td>\n",
       "      <td>114.07</td>\n",
       "      <td>3309637</td>\n",
       "      <td>453.13</td>\n",
       "      <td>454.670</td>\n",
       "      <td>451.05</td>\n",
       "      <td>453.13</td>\n",
       "      <td>50771701</td>\n",
       "    </tr>\n",
       "  </tbody>\n",
       "</table>\n",
       "</div>"
      ],
      "text/plain": [
       "                              AGG                                       \\\n",
       "                             open      high       low   close   volume   \n",
       "time                                                                     \n",
       "2021-10-18 00:00:00-04:00  114.33  114.5600  114.2500  114.49  5145953   \n",
       "2021-10-19 00:00:00-04:00  114.37  114.3700  114.1600  114.18  3999066   \n",
       "2021-10-20 00:00:00-04:00  114.17  114.2900  114.0600  114.07  5881766   \n",
       "2021-10-21 00:00:00-04:00  114.01  114.0400  113.8423  113.85  4741154   \n",
       "2021-10-22 00:00:00-04:00  113.97  114.1399  113.8950  114.07  3309637   \n",
       "\n",
       "                              SPY                                     \n",
       "                             open     high     low   close    volume  \n",
       "time                                                                  \n",
       "2021-10-18 00:00:00-04:00  443.97  447.550  443.27  447.22  51994387  \n",
       "2021-10-19 00:00:00-04:00  448.92  450.700  448.27  450.68  40790864  \n",
       "2021-10-20 00:00:00-04:00  451.13  452.732  451.01  452.39  41594298  \n",
       "2021-10-21 00:00:00-04:00  451.76  453.829  451.31  453.61  33945007  \n",
       "2021-10-22 00:00:00-04:00  453.13  454.670  451.05  453.13  50771701  "
      ]
     },
     "execution_count": 96,
     "metadata": {},
     "output_type": "execute_result"
    }
   ],
   "source": [
    "# Use the Alpaca get_barset function to make the API call to get the 3 years worth of pricing data\n",
    "# The tickers and timeframe parameters should have been set in Part 1 of this activity \n",
    "# The start and end dates should be updated with the information set above\n",
    "# Remember to add the df property to the end of the call so the response is returned as a DataFrame\n",
    "\n",
    "prices_df = alpaca.get_barset(\n",
    "    tickers,\n",
    "    timeframe,\n",
    "    start= start_date,\n",
    "    end = end_date,\n",
    ").df\n",
    "\n",
    "\n",
    "\n",
    "# Display both the first and last five rows of the DataFrame\n",
    "display(prices_df.head())\n",
    "prices_df.tail()\n",
    "# YOUR CODE HERE\n"
   ]
  },
  {
   "cell_type": "markdown",
   "metadata": {},
   "source": [
    "#### Step 2: Run a Monte Carlo simulation of 500 samples and 30 years for the 60/40 portfolio, and then plot the results."
   ]
  },
  {
   "cell_type": "code",
   "execution_count": 97,
   "metadata": {},
   "outputs": [
    {
     "data": {
      "text/html": [
       "<div>\n",
       "<style scoped>\n",
       "    .dataframe tbody tr th:only-of-type {\n",
       "        vertical-align: middle;\n",
       "    }\n",
       "\n",
       "    .dataframe tbody tr th {\n",
       "        vertical-align: top;\n",
       "    }\n",
       "\n",
       "    .dataframe thead tr th {\n",
       "        text-align: left;\n",
       "    }\n",
       "\n",
       "    .dataframe thead tr:last-of-type th {\n",
       "        text-align: right;\n",
       "    }\n",
       "</style>\n",
       "<table border=\"1\" class=\"dataframe\">\n",
       "  <thead>\n",
       "    <tr>\n",
       "      <th></th>\n",
       "      <th colspan=\"6\" halign=\"left\">AGG</th>\n",
       "      <th colspan=\"6\" halign=\"left\">SPY</th>\n",
       "    </tr>\n",
       "    <tr>\n",
       "      <th></th>\n",
       "      <th>open</th>\n",
       "      <th>high</th>\n",
       "      <th>low</th>\n",
       "      <th>close</th>\n",
       "      <th>volume</th>\n",
       "      <th>daily_return</th>\n",
       "      <th>open</th>\n",
       "      <th>high</th>\n",
       "      <th>low</th>\n",
       "      <th>close</th>\n",
       "      <th>volume</th>\n",
       "      <th>daily_return</th>\n",
       "    </tr>\n",
       "    <tr>\n",
       "      <th>time</th>\n",
       "      <th></th>\n",
       "      <th></th>\n",
       "      <th></th>\n",
       "      <th></th>\n",
       "      <th></th>\n",
       "      <th></th>\n",
       "      <th></th>\n",
       "      <th></th>\n",
       "      <th></th>\n",
       "      <th></th>\n",
       "      <th></th>\n",
       "      <th></th>\n",
       "    </tr>\n",
       "  </thead>\n",
       "  <tbody>\n",
       "    <tr>\n",
       "      <th>2021-06-03 00:00:00-04:00</th>\n",
       "      <td>114.31</td>\n",
       "      <td>114.46</td>\n",
       "      <td>114.21</td>\n",
       "      <td>114.210</td>\n",
       "      <td>3270096</td>\n",
       "      <td>NaN</td>\n",
       "      <td>417.87</td>\n",
       "      <td>419.99</td>\n",
       "      <td>416.2800</td>\n",
       "      <td>418.86</td>\n",
       "      <td>51582905</td>\n",
       "      <td>NaN</td>\n",
       "    </tr>\n",
       "    <tr>\n",
       "      <th>2021-06-04 00:00:00-04:00</th>\n",
       "      <td>114.39</td>\n",
       "      <td>114.67</td>\n",
       "      <td>114.22</td>\n",
       "      <td>114.665</td>\n",
       "      <td>4334878</td>\n",
       "      <td>0.003984</td>\n",
       "      <td>420.75</td>\n",
       "      <td>422.92</td>\n",
       "      <td>418.8422</td>\n",
       "      <td>422.57</td>\n",
       "      <td>45129316</td>\n",
       "      <td>0.008857</td>\n",
       "    </tr>\n",
       "    <tr>\n",
       "      <th>2021-06-07 00:00:00-04:00</th>\n",
       "      <td>113.97</td>\n",
       "      <td>114.64</td>\n",
       "      <td>113.97</td>\n",
       "      <td>114.595</td>\n",
       "      <td>3639918</td>\n",
       "      <td>-0.000610</td>\n",
       "      <td>422.59</td>\n",
       "      <td>422.78</td>\n",
       "      <td>421.1900</td>\n",
       "      <td>422.23</td>\n",
       "      <td>41442963</td>\n",
       "      <td>-0.000805</td>\n",
       "    </tr>\n",
       "    <tr>\n",
       "      <th>2021-06-08 00:00:00-04:00</th>\n",
       "      <td>114.84</td>\n",
       "      <td>114.87</td>\n",
       "      <td>114.78</td>\n",
       "      <td>114.820</td>\n",
       "      <td>3951702</td>\n",
       "      <td>0.001963</td>\n",
       "      <td>423.11</td>\n",
       "      <td>423.21</td>\n",
       "      <td>420.3200</td>\n",
       "      <td>422.27</td>\n",
       "      <td>40131441</td>\n",
       "      <td>0.000095</td>\n",
       "    </tr>\n",
       "    <tr>\n",
       "      <th>2021-06-09 00:00:00-04:00</th>\n",
       "      <td>115.43</td>\n",
       "      <td>115.43</td>\n",
       "      <td>114.97</td>\n",
       "      <td>115.050</td>\n",
       "      <td>3418086</td>\n",
       "      <td>0.002003</td>\n",
       "      <td>423.18</td>\n",
       "      <td>423.26</td>\n",
       "      <td>421.4100</td>\n",
       "      <td>421.62</td>\n",
       "      <td>38368598</td>\n",
       "      <td>-0.001539</td>\n",
       "    </tr>\n",
       "  </tbody>\n",
       "</table>\n",
       "</div>"
      ],
      "text/plain": [
       "                              AGG                                    \\\n",
       "                             open    high     low    close   volume   \n",
       "time                                                                  \n",
       "2021-06-03 00:00:00-04:00  114.31  114.46  114.21  114.210  3270096   \n",
       "2021-06-04 00:00:00-04:00  114.39  114.67  114.22  114.665  4334878   \n",
       "2021-06-07 00:00:00-04:00  113.97  114.64  113.97  114.595  3639918   \n",
       "2021-06-08 00:00:00-04:00  114.84  114.87  114.78  114.820  3951702   \n",
       "2021-06-09 00:00:00-04:00  115.43  115.43  114.97  115.050  3418086   \n",
       "\n",
       "                                           SPY                            \\\n",
       "                          daily_return    open    high       low   close   \n",
       "time                                                                       \n",
       "2021-06-03 00:00:00-04:00          NaN  417.87  419.99  416.2800  418.86   \n",
       "2021-06-04 00:00:00-04:00     0.003984  420.75  422.92  418.8422  422.57   \n",
       "2021-06-07 00:00:00-04:00    -0.000610  422.59  422.78  421.1900  422.23   \n",
       "2021-06-08 00:00:00-04:00     0.001963  423.11  423.21  420.3200  422.27   \n",
       "2021-06-09 00:00:00-04:00     0.002003  423.18  423.26  421.4100  421.62   \n",
       "\n",
       "                                                  \n",
       "                             volume daily_return  \n",
       "time                                              \n",
       "2021-06-03 00:00:00-04:00  51582905          NaN  \n",
       "2021-06-04 00:00:00-04:00  45129316     0.008857  \n",
       "2021-06-07 00:00:00-04:00  41442963    -0.000805  \n",
       "2021-06-08 00:00:00-04:00  40131441     0.000095  \n",
       "2021-06-09 00:00:00-04:00  38368598    -0.001539  "
      ]
     },
     "execution_count": 97,
     "metadata": {},
     "output_type": "execute_result"
    }
   ],
   "source": [
    "# Configure the Monte Carlo simulation to forecast 30 years cumulative returns\n",
    "# The weights should be split 40% to AGG and 60% to SPY.\n",
    "# Run 500 samples.\n",
    "\n",
    "MC_40_60 = MCSimulation(\n",
    "    portfolio_data = prices_df,\n",
    "    weights = [.4,.6],\n",
    "    num_simulation = 500,\n",
    "    num_trading_days = 252*30\n",
    ")\n",
    "\n",
    "\n",
    "\n",
    "# Review the simulation input data\n",
    "MC_40_60.portfolio_data.head()\n"
   ]
  },
  {
   "cell_type": "code",
   "execution_count": 98,
   "metadata": {},
   "outputs": [
    {
     "name": "stdout",
     "output_type": "stream",
     "text": [
      "Running Monte Carlo simulation number 0.\n",
      "Running Monte Carlo simulation number 10.\n",
      "Running Monte Carlo simulation number 20.\n",
      "Running Monte Carlo simulation number 30.\n",
      "Running Monte Carlo simulation number 40.\n",
      "Running Monte Carlo simulation number 50.\n",
      "Running Monte Carlo simulation number 60.\n",
      "Running Monte Carlo simulation number 70.\n",
      "Running Monte Carlo simulation number 80.\n",
      "Running Monte Carlo simulation number 90.\n",
      "Running Monte Carlo simulation number 100.\n",
      "Running Monte Carlo simulation number 110.\n",
      "Running Monte Carlo simulation number 120.\n",
      "Running Monte Carlo simulation number 130.\n",
      "Running Monte Carlo simulation number 140.\n",
      "Running Monte Carlo simulation number 150.\n",
      "Running Monte Carlo simulation number 160.\n",
      "Running Monte Carlo simulation number 170.\n",
      "Running Monte Carlo simulation number 180.\n",
      "Running Monte Carlo simulation number 190.\n",
      "Running Monte Carlo simulation number 200.\n",
      "Running Monte Carlo simulation number 210.\n",
      "Running Monte Carlo simulation number 220.\n",
      "Running Monte Carlo simulation number 230.\n",
      "Running Monte Carlo simulation number 240.\n",
      "Running Monte Carlo simulation number 250.\n",
      "Running Monte Carlo simulation number 260.\n",
      "Running Monte Carlo simulation number 270.\n",
      "Running Monte Carlo simulation number 280.\n",
      "Running Monte Carlo simulation number 290.\n",
      "Running Monte Carlo simulation number 300.\n",
      "Running Monte Carlo simulation number 310.\n",
      "Running Monte Carlo simulation number 320.\n",
      "Running Monte Carlo simulation number 330.\n",
      "Running Monte Carlo simulation number 340.\n",
      "Running Monte Carlo simulation number 350.\n",
      "Running Monte Carlo simulation number 360.\n",
      "Running Monte Carlo simulation number 370.\n",
      "Running Monte Carlo simulation number 380.\n",
      "Running Monte Carlo simulation number 390.\n",
      "Running Monte Carlo simulation number 400.\n",
      "Running Monte Carlo simulation number 410.\n",
      "Running Monte Carlo simulation number 420.\n",
      "Running Monte Carlo simulation number 430.\n",
      "Running Monte Carlo simulation number 440.\n",
      "Running Monte Carlo simulation number 450.\n",
      "Running Monte Carlo simulation number 460.\n",
      "Running Monte Carlo simulation number 470.\n",
      "Running Monte Carlo simulation number 480.\n",
      "Running Monte Carlo simulation number 490.\n"
     ]
    },
    {
     "data": {
      "text/html": [
       "<div>\n",
       "<style scoped>\n",
       "    .dataframe tbody tr th:only-of-type {\n",
       "        vertical-align: middle;\n",
       "    }\n",
       "\n",
       "    .dataframe tbody tr th {\n",
       "        vertical-align: top;\n",
       "    }\n",
       "\n",
       "    .dataframe thead th {\n",
       "        text-align: right;\n",
       "    }\n",
       "</style>\n",
       "<table border=\"1\" class=\"dataframe\">\n",
       "  <thead>\n",
       "    <tr style=\"text-align: right;\">\n",
       "      <th></th>\n",
       "      <th>0</th>\n",
       "      <th>1</th>\n",
       "      <th>2</th>\n",
       "      <th>3</th>\n",
       "      <th>4</th>\n",
       "      <th>5</th>\n",
       "      <th>6</th>\n",
       "      <th>7</th>\n",
       "      <th>8</th>\n",
       "      <th>9</th>\n",
       "      <th>...</th>\n",
       "      <th>490</th>\n",
       "      <th>491</th>\n",
       "      <th>492</th>\n",
       "      <th>493</th>\n",
       "      <th>494</th>\n",
       "      <th>495</th>\n",
       "      <th>496</th>\n",
       "      <th>497</th>\n",
       "      <th>498</th>\n",
       "      <th>499</th>\n",
       "    </tr>\n",
       "  </thead>\n",
       "  <tbody>\n",
       "    <tr>\n",
       "      <th>0</th>\n",
       "      <td>1.000000</td>\n",
       "      <td>1.000000</td>\n",
       "      <td>1.000000</td>\n",
       "      <td>1.000000</td>\n",
       "      <td>1.000000</td>\n",
       "      <td>1.000000</td>\n",
       "      <td>1.000000</td>\n",
       "      <td>1.000000</td>\n",
       "      <td>1.000000</td>\n",
       "      <td>1.000000</td>\n",
       "      <td>...</td>\n",
       "      <td>1.000000</td>\n",
       "      <td>1.000000</td>\n",
       "      <td>1.000000</td>\n",
       "      <td>1.000000</td>\n",
       "      <td>1.000000</td>\n",
       "      <td>1.000000</td>\n",
       "      <td>1.000000</td>\n",
       "      <td>1.000000</td>\n",
       "      <td>1.000000</td>\n",
       "      <td>1.000000</td>\n",
       "    </tr>\n",
       "    <tr>\n",
       "      <th>1</th>\n",
       "      <td>1.000464</td>\n",
       "      <td>1.007716</td>\n",
       "      <td>1.000945</td>\n",
       "      <td>0.999486</td>\n",
       "      <td>1.005641</td>\n",
       "      <td>1.000357</td>\n",
       "      <td>0.991326</td>\n",
       "      <td>0.996641</td>\n",
       "      <td>1.003476</td>\n",
       "      <td>0.996250</td>\n",
       "      <td>...</td>\n",
       "      <td>1.003463</td>\n",
       "      <td>1.008187</td>\n",
       "      <td>1.006435</td>\n",
       "      <td>1.001864</td>\n",
       "      <td>0.994675</td>\n",
       "      <td>0.996826</td>\n",
       "      <td>0.998957</td>\n",
       "      <td>0.998731</td>\n",
       "      <td>1.002463</td>\n",
       "      <td>1.005689</td>\n",
       "    </tr>\n",
       "    <tr>\n",
       "      <th>2</th>\n",
       "      <td>1.006921</td>\n",
       "      <td>1.004976</td>\n",
       "      <td>1.001480</td>\n",
       "      <td>1.002237</td>\n",
       "      <td>1.006986</td>\n",
       "      <td>0.999096</td>\n",
       "      <td>0.988747</td>\n",
       "      <td>0.995722</td>\n",
       "      <td>1.002814</td>\n",
       "      <td>0.994676</td>\n",
       "      <td>...</td>\n",
       "      <td>1.006929</td>\n",
       "      <td>1.008398</td>\n",
       "      <td>1.008751</td>\n",
       "      <td>0.998387</td>\n",
       "      <td>0.993641</td>\n",
       "      <td>0.993715</td>\n",
       "      <td>1.000026</td>\n",
       "      <td>1.005458</td>\n",
       "      <td>1.006253</td>\n",
       "      <td>1.014098</td>\n",
       "    </tr>\n",
       "    <tr>\n",
       "      <th>3</th>\n",
       "      <td>1.008333</td>\n",
       "      <td>1.007339</td>\n",
       "      <td>0.996096</td>\n",
       "      <td>1.001189</td>\n",
       "      <td>1.009692</td>\n",
       "      <td>1.004004</td>\n",
       "      <td>0.993028</td>\n",
       "      <td>0.997534</td>\n",
       "      <td>1.013466</td>\n",
       "      <td>0.992847</td>\n",
       "      <td>...</td>\n",
       "      <td>1.009102</td>\n",
       "      <td>0.999572</td>\n",
       "      <td>1.003140</td>\n",
       "      <td>0.998397</td>\n",
       "      <td>1.007028</td>\n",
       "      <td>0.995429</td>\n",
       "      <td>0.996170</td>\n",
       "      <td>1.006043</td>\n",
       "      <td>1.004027</td>\n",
       "      <td>1.015134</td>\n",
       "    </tr>\n",
       "    <tr>\n",
       "      <th>4</th>\n",
       "      <td>1.013806</td>\n",
       "      <td>1.007563</td>\n",
       "      <td>0.994578</td>\n",
       "      <td>1.004617</td>\n",
       "      <td>1.011987</td>\n",
       "      <td>1.002840</td>\n",
       "      <td>0.994178</td>\n",
       "      <td>0.994329</td>\n",
       "      <td>1.017924</td>\n",
       "      <td>0.993399</td>\n",
       "      <td>...</td>\n",
       "      <td>1.003895</td>\n",
       "      <td>1.005862</td>\n",
       "      <td>0.999137</td>\n",
       "      <td>1.004575</td>\n",
       "      <td>1.008191</td>\n",
       "      <td>0.993506</td>\n",
       "      <td>1.004551</td>\n",
       "      <td>1.005230</td>\n",
       "      <td>0.997967</td>\n",
       "      <td>1.016618</td>\n",
       "    </tr>\n",
       "    <tr>\n",
       "      <th>...</th>\n",
       "      <td>...</td>\n",
       "      <td>...</td>\n",
       "      <td>...</td>\n",
       "      <td>...</td>\n",
       "      <td>...</td>\n",
       "      <td>...</td>\n",
       "      <td>...</td>\n",
       "      <td>...</td>\n",
       "      <td>...</td>\n",
       "      <td>...</td>\n",
       "      <td>...</td>\n",
       "      <td>...</td>\n",
       "      <td>...</td>\n",
       "      <td>...</td>\n",
       "      <td>...</td>\n",
       "      <td>...</td>\n",
       "      <td>...</td>\n",
       "      <td>...</td>\n",
       "      <td>...</td>\n",
       "      <td>...</td>\n",
       "      <td>...</td>\n",
       "    </tr>\n",
       "    <tr>\n",
       "      <th>7556</th>\n",
       "      <td>48.089861</td>\n",
       "      <td>32.052638</td>\n",
       "      <td>55.936074</td>\n",
       "      <td>33.521149</td>\n",
       "      <td>20.302481</td>\n",
       "      <td>54.015339</td>\n",
       "      <td>40.962110</td>\n",
       "      <td>29.001708</td>\n",
       "      <td>50.696823</td>\n",
       "      <td>34.898804</td>\n",
       "      <td>...</td>\n",
       "      <td>26.424152</td>\n",
       "      <td>48.387852</td>\n",
       "      <td>30.782267</td>\n",
       "      <td>51.835786</td>\n",
       "      <td>38.864086</td>\n",
       "      <td>54.925669</td>\n",
       "      <td>47.641253</td>\n",
       "      <td>36.243033</td>\n",
       "      <td>38.879236</td>\n",
       "      <td>20.781700</td>\n",
       "    </tr>\n",
       "    <tr>\n",
       "      <th>7557</th>\n",
       "      <td>48.053513</td>\n",
       "      <td>32.091052</td>\n",
       "      <td>56.056639</td>\n",
       "      <td>33.654042</td>\n",
       "      <td>20.108944</td>\n",
       "      <td>53.903868</td>\n",
       "      <td>40.891106</td>\n",
       "      <td>29.234376</td>\n",
       "      <td>50.639353</td>\n",
       "      <td>35.046331</td>\n",
       "      <td>...</td>\n",
       "      <td>26.394515</td>\n",
       "      <td>48.438224</td>\n",
       "      <td>30.877192</td>\n",
       "      <td>51.722799</td>\n",
       "      <td>39.160944</td>\n",
       "      <td>54.998671</td>\n",
       "      <td>47.892136</td>\n",
       "      <td>36.161427</td>\n",
       "      <td>38.874436</td>\n",
       "      <td>20.836579</td>\n",
       "    </tr>\n",
       "    <tr>\n",
       "      <th>7558</th>\n",
       "      <td>48.011242</td>\n",
       "      <td>32.278354</td>\n",
       "      <td>56.045641</td>\n",
       "      <td>33.609864</td>\n",
       "      <td>19.890764</td>\n",
       "      <td>54.140184</td>\n",
       "      <td>40.881708</td>\n",
       "      <td>29.293841</td>\n",
       "      <td>50.533805</td>\n",
       "      <td>35.248578</td>\n",
       "      <td>...</td>\n",
       "      <td>26.473578</td>\n",
       "      <td>48.380969</td>\n",
       "      <td>30.788159</td>\n",
       "      <td>51.920327</td>\n",
       "      <td>38.998913</td>\n",
       "      <td>55.171916</td>\n",
       "      <td>47.340135</td>\n",
       "      <td>36.064949</td>\n",
       "      <td>38.805335</td>\n",
       "      <td>20.880251</td>\n",
       "    </tr>\n",
       "    <tr>\n",
       "      <th>7559</th>\n",
       "      <td>47.638840</td>\n",
       "      <td>32.516234</td>\n",
       "      <td>56.198814</td>\n",
       "      <td>33.754656</td>\n",
       "      <td>19.923602</td>\n",
       "      <td>53.965953</td>\n",
       "      <td>40.762085</td>\n",
       "      <td>29.425030</td>\n",
       "      <td>50.547959</td>\n",
       "      <td>35.031804</td>\n",
       "      <td>...</td>\n",
       "      <td>26.486866</td>\n",
       "      <td>48.262600</td>\n",
       "      <td>30.687755</td>\n",
       "      <td>52.040957</td>\n",
       "      <td>39.299471</td>\n",
       "      <td>55.016548</td>\n",
       "      <td>47.416036</td>\n",
       "      <td>35.930670</td>\n",
       "      <td>39.011755</td>\n",
       "      <td>20.860070</td>\n",
       "    </tr>\n",
       "    <tr>\n",
       "      <th>7560</th>\n",
       "      <td>47.732081</td>\n",
       "      <td>32.637563</td>\n",
       "      <td>56.302385</td>\n",
       "      <td>33.593086</td>\n",
       "      <td>19.953781</td>\n",
       "      <td>54.027976</td>\n",
       "      <td>40.722438</td>\n",
       "      <td>29.402112</td>\n",
       "      <td>51.227686</td>\n",
       "      <td>35.221413</td>\n",
       "      <td>...</td>\n",
       "      <td>26.513063</td>\n",
       "      <td>48.545462</td>\n",
       "      <td>30.721753</td>\n",
       "      <td>52.149121</td>\n",
       "      <td>39.301843</td>\n",
       "      <td>54.953539</td>\n",
       "      <td>47.685621</td>\n",
       "      <td>35.930520</td>\n",
       "      <td>38.898692</td>\n",
       "      <td>20.850332</td>\n",
       "    </tr>\n",
       "  </tbody>\n",
       "</table>\n",
       "<p>7561 rows × 500 columns</p>\n",
       "</div>"
      ],
      "text/plain": [
       "            0          1          2          3          4          5    \\\n",
       "0      1.000000   1.000000   1.000000   1.000000   1.000000   1.000000   \n",
       "1      1.000464   1.007716   1.000945   0.999486   1.005641   1.000357   \n",
       "2      1.006921   1.004976   1.001480   1.002237   1.006986   0.999096   \n",
       "3      1.008333   1.007339   0.996096   1.001189   1.009692   1.004004   \n",
       "4      1.013806   1.007563   0.994578   1.004617   1.011987   1.002840   \n",
       "...         ...        ...        ...        ...        ...        ...   \n",
       "7556  48.089861  32.052638  55.936074  33.521149  20.302481  54.015339   \n",
       "7557  48.053513  32.091052  56.056639  33.654042  20.108944  53.903868   \n",
       "7558  48.011242  32.278354  56.045641  33.609864  19.890764  54.140184   \n",
       "7559  47.638840  32.516234  56.198814  33.754656  19.923602  53.965953   \n",
       "7560  47.732081  32.637563  56.302385  33.593086  19.953781  54.027976   \n",
       "\n",
       "            6          7          8          9    ...        490        491  \\\n",
       "0      1.000000   1.000000   1.000000   1.000000  ...   1.000000   1.000000   \n",
       "1      0.991326   0.996641   1.003476   0.996250  ...   1.003463   1.008187   \n",
       "2      0.988747   0.995722   1.002814   0.994676  ...   1.006929   1.008398   \n",
       "3      0.993028   0.997534   1.013466   0.992847  ...   1.009102   0.999572   \n",
       "4      0.994178   0.994329   1.017924   0.993399  ...   1.003895   1.005862   \n",
       "...         ...        ...        ...        ...  ...        ...        ...   \n",
       "7556  40.962110  29.001708  50.696823  34.898804  ...  26.424152  48.387852   \n",
       "7557  40.891106  29.234376  50.639353  35.046331  ...  26.394515  48.438224   \n",
       "7558  40.881708  29.293841  50.533805  35.248578  ...  26.473578  48.380969   \n",
       "7559  40.762085  29.425030  50.547959  35.031804  ...  26.486866  48.262600   \n",
       "7560  40.722438  29.402112  51.227686  35.221413  ...  26.513063  48.545462   \n",
       "\n",
       "            492        493        494        495        496        497  \\\n",
       "0      1.000000   1.000000   1.000000   1.000000   1.000000   1.000000   \n",
       "1      1.006435   1.001864   0.994675   0.996826   0.998957   0.998731   \n",
       "2      1.008751   0.998387   0.993641   0.993715   1.000026   1.005458   \n",
       "3      1.003140   0.998397   1.007028   0.995429   0.996170   1.006043   \n",
       "4      0.999137   1.004575   1.008191   0.993506   1.004551   1.005230   \n",
       "...         ...        ...        ...        ...        ...        ...   \n",
       "7556  30.782267  51.835786  38.864086  54.925669  47.641253  36.243033   \n",
       "7557  30.877192  51.722799  39.160944  54.998671  47.892136  36.161427   \n",
       "7558  30.788159  51.920327  38.998913  55.171916  47.340135  36.064949   \n",
       "7559  30.687755  52.040957  39.299471  55.016548  47.416036  35.930670   \n",
       "7560  30.721753  52.149121  39.301843  54.953539  47.685621  35.930520   \n",
       "\n",
       "            498        499  \n",
       "0      1.000000   1.000000  \n",
       "1      1.002463   1.005689  \n",
       "2      1.006253   1.014098  \n",
       "3      1.004027   1.015134  \n",
       "4      0.997967   1.016618  \n",
       "...         ...        ...  \n",
       "7556  38.879236  20.781700  \n",
       "7557  38.874436  20.836579  \n",
       "7558  38.805335  20.880251  \n",
       "7559  39.011755  20.860070  \n",
       "7560  38.898692  20.850332  \n",
       "\n",
       "[7561 rows x 500 columns]"
      ]
     },
     "execution_count": 98,
     "metadata": {},
     "output_type": "execute_result"
    }
   ],
   "source": [
    "# Run the Monte Carlo simulation to forecast 30 years cumulative returns\n",
    "MC_40_60.calc_cumulative_return()\n"
   ]
  },
  {
   "cell_type": "code",
   "execution_count": 99,
   "metadata": {},
   "outputs": [
    {
     "data": {
      "image/png": "[encoded data removed]",
      "text/plain": [
       "<Figure size 432x288 with 1 Axes>"
      ]
     },
     "metadata": {
      "needs_background": "light"
     },
     "output_type": "display_data"
    }
   ],
   "source": [
    "# Visualize the 30-year Monte Carlo simulation by creating an\n",
    "# overlay line plot\n",
    "MC_40_60_line = MC_40_60.plot_simulation()\n"
   ]
  },
  {
   "cell_type": "markdown",
   "metadata": {},
   "source": [
    "#### Step 3: Plot the probability distribution of the Monte Carlo simulation."
   ]
  },
  {
   "cell_type": "code",
   "execution_count": 100,
   "metadata": {},
   "outputs": [
    {
     "data": {
      "image/png": "[encoded data removed]",
      "text/plain": [
       "<Figure size 432x288 with 1 Axes>"
      ]
     },
     "metadata": {
      "needs_background": "light"
     },
     "output_type": "display_data"
    }
   ],
   "source": [
    "# Visualize the probability distribution of the 30-year Monte Carlo simulation \n",
    "# by plotting a histogram\n",
    "MC_40_60_dist = MC_40_60.plot_distribution()\n"
   ]
  },
  {
   "cell_type": "markdown",
   "metadata": {},
   "source": [
    "#### Step 4: Generate the summary statistics for the Monte Carlo simulation."
   ]
  },
  {
   "cell_type": "code",
   "execution_count": 101,
   "metadata": {},
   "outputs": [
    {
     "data": {
      "text/plain": [
       "count           500.000000\n",
       "mean             39.386488\n",
       "std              16.067788\n",
       "min              12.060138\n",
       "25%              28.163492\n",
       "50%              36.254520\n",
       "75%              47.589017\n",
       "max             119.948150\n",
       "95% CI Lower     17.615484\n",
       "95% CI Upper     78.189641\n",
       "Name: 7560, dtype: float64"
      ]
     },
     "execution_count": 101,
     "metadata": {},
     "output_type": "execute_result"
    }
   ],
   "source": [
    "# Generate summary statistics from the 30-year Monte Carlo simulation results\n",
    "# Save the results as a variable\n",
    "\n",
    "forty_sixty_summary = MC_40_60.summarize_cumulative_return()\n",
    "\n",
    "# Review the 30-year Monte Carlo summary statistics\n",
    "forty_sixty_summary"
   ]
  },
  {
   "cell_type": "markdown",
   "metadata": {},
   "source": [
    "### Analyze the Retirement Portfolio Forecasts\n",
    "\n",
    "Using the current value of only the stock and bond portion of the member's portfolio and the summary statistics that you generated from the Monte Carlo simulation, answer the following question in your Jupyter notebook:\n",
    "\n",
    "-  What are the lower and upper bounds for the expected value of the portfolio with a 95% confidence interval?\n"
   ]
  },
  {
   "cell_type": "code",
   "execution_count": 102,
   "metadata": {},
   "outputs": [
    {
     "name": "stdout",
     "output_type": "stream",
     "text": [
      "158710.108\n"
     ]
    }
   ],
   "source": [
    "# Print the current balance of the stock and bond portion of the members portfolio\n",
    "print(total_portfolio)\n"
   ]
  },
  {
   "cell_type": "code",
   "execution_count": 103,
   "metadata": {},
   "outputs": [
    {
     "name": "stdout",
     "output_type": "stream",
     "text": [
      "The lower thrity CI is 2795753.48 while the upper 30 CI is 12409477.89\n"
     ]
    }
   ],
   "source": [
    "# Use the lower and upper `95%` confidence intervals to calculate the range of the possible outcomes for the current stock/bond portfolio\n",
    "ci_lower_thirty_cumulative_return = round(forty_sixty_summary[8]*158710,2 )\n",
    "ci_upper_thirty_cumulative_return = round(forty_sixty_summary[9]* 158710, 2)\n",
    "\n",
    "\n",
    "\n",
    "# Print the result of your calculations\n",
    "print(f'The lower thrity CI is {ci_lower_thirty_cumulative_return} while the upper 30 CI is {ci_upper_thirty_cumulative_return}')\n"
   ]
  },
  {
   "cell_type": "markdown",
   "metadata": {},
   "source": [
    "### Forecast Cumulative Returns in 10 Years\n",
    "\n",
    "The CTO of the credit union is impressed with your work on these planning tools but wonders if 30 years is a long time to wait until retirement. So, your next task is to adjust the retirement portfolio and run a new Monte Carlo simulation to find out if the changes will allow members to retire earlier.\n",
    "\n",
    "For this new Monte Carlo simulation, do the following: \n",
    "\n",
    "- Forecast the cumulative returns for 10 years from now. Because of the shortened investment horizon (30 years to 10 years), the portfolio needs to invest more heavily in the riskier asset&mdash;that is, stock&mdash;to help accumulate wealth for retirement. \n",
    "\n",
    "- Adjust the weights of the retirement portfolio so that the composition for the Monte Carlo simulation consists of 20% bonds and 80% stocks. \n",
    "\n",
    "- Run the simulation over 500 samples, and use the same data that the API call to Alpaca generated.\n",
    "\n",
    "- Based on the new Monte Carlo simulation, answer the following questions in your Jupyter notebook:\n",
    "\n",
    "    - Using the current value of only the stock and bond portion of the member's portfolio and the summary statistics that you generated from the new Monte Carlo simulation, what are the lower and upper bounds for the expected value of the portfolio (with the new weights) with a 95% confidence interval?\n",
    "\n",
    "    - Will weighting the portfolio more heavily toward stocks allow the credit union members to retire after only 10 years?\n"
   ]
  },
  {
   "cell_type": "code",
   "execution_count": 105,
   "metadata": {},
   "outputs": [
    {
     "data": {
      "text/html": [
       "<div>\n",
       "<style scoped>\n",
       "    .dataframe tbody tr th:only-of-type {\n",
       "        vertical-align: middle;\n",
       "    }\n",
       "\n",
       "    .dataframe tbody tr th {\n",
       "        vertical-align: top;\n",
       "    }\n",
       "\n",
       "    .dataframe thead tr th {\n",
       "        text-align: left;\n",
       "    }\n",
       "\n",
       "    .dataframe thead tr:last-of-type th {\n",
       "        text-align: right;\n",
       "    }\n",
       "</style>\n",
       "<table border=\"1\" class=\"dataframe\">\n",
       "  <thead>\n",
       "    <tr>\n",
       "      <th></th>\n",
       "      <th colspan=\"6\" halign=\"left\">AGG</th>\n",
       "      <th colspan=\"6\" halign=\"left\">SPY</th>\n",
       "    </tr>\n",
       "    <tr>\n",
       "      <th></th>\n",
       "      <th>open</th>\n",
       "      <th>high</th>\n",
       "      <th>low</th>\n",
       "      <th>close</th>\n",
       "      <th>volume</th>\n",
       "      <th>daily_return</th>\n",
       "      <th>open</th>\n",
       "      <th>high</th>\n",
       "      <th>low</th>\n",
       "      <th>close</th>\n",
       "      <th>volume</th>\n",
       "      <th>daily_return</th>\n",
       "    </tr>\n",
       "    <tr>\n",
       "      <th>time</th>\n",
       "      <th></th>\n",
       "      <th></th>\n",
       "      <th></th>\n",
       "      <th></th>\n",
       "      <th></th>\n",
       "      <th></th>\n",
       "      <th></th>\n",
       "      <th></th>\n",
       "      <th></th>\n",
       "      <th></th>\n",
       "      <th></th>\n",
       "      <th></th>\n",
       "    </tr>\n",
       "  </thead>\n",
       "  <tbody>\n",
       "    <tr>\n",
       "      <th>2021-06-03 00:00:00-04:00</th>\n",
       "      <td>114.31</td>\n",
       "      <td>114.46</td>\n",
       "      <td>114.21</td>\n",
       "      <td>114.210</td>\n",
       "      <td>3270096</td>\n",
       "      <td>NaN</td>\n",
       "      <td>417.87</td>\n",
       "      <td>419.99</td>\n",
       "      <td>416.2800</td>\n",
       "      <td>418.86</td>\n",
       "      <td>51582905</td>\n",
       "      <td>NaN</td>\n",
       "    </tr>\n",
       "    <tr>\n",
       "      <th>2021-06-04 00:00:00-04:00</th>\n",
       "      <td>114.39</td>\n",
       "      <td>114.67</td>\n",
       "      <td>114.22</td>\n",
       "      <td>114.665</td>\n",
       "      <td>4334878</td>\n",
       "      <td>0.003984</td>\n",
       "      <td>420.75</td>\n",
       "      <td>422.92</td>\n",
       "      <td>418.8422</td>\n",
       "      <td>422.57</td>\n",
       "      <td>45129316</td>\n",
       "      <td>0.008857</td>\n",
       "    </tr>\n",
       "    <tr>\n",
       "      <th>2021-06-07 00:00:00-04:00</th>\n",
       "      <td>113.97</td>\n",
       "      <td>114.64</td>\n",
       "      <td>113.97</td>\n",
       "      <td>114.595</td>\n",
       "      <td>3639918</td>\n",
       "      <td>-0.000610</td>\n",
       "      <td>422.59</td>\n",
       "      <td>422.78</td>\n",
       "      <td>421.1900</td>\n",
       "      <td>422.23</td>\n",
       "      <td>41442963</td>\n",
       "      <td>-0.000805</td>\n",
       "    </tr>\n",
       "    <tr>\n",
       "      <th>2021-06-08 00:00:00-04:00</th>\n",
       "      <td>114.84</td>\n",
       "      <td>114.87</td>\n",
       "      <td>114.78</td>\n",
       "      <td>114.820</td>\n",
       "      <td>3951702</td>\n",
       "      <td>0.001963</td>\n",
       "      <td>423.11</td>\n",
       "      <td>423.21</td>\n",
       "      <td>420.3200</td>\n",
       "      <td>422.27</td>\n",
       "      <td>40131441</td>\n",
       "      <td>0.000095</td>\n",
       "    </tr>\n",
       "    <tr>\n",
       "      <th>2021-06-09 00:00:00-04:00</th>\n",
       "      <td>115.43</td>\n",
       "      <td>115.43</td>\n",
       "      <td>114.97</td>\n",
       "      <td>115.050</td>\n",
       "      <td>3418086</td>\n",
       "      <td>0.002003</td>\n",
       "      <td>423.18</td>\n",
       "      <td>423.26</td>\n",
       "      <td>421.4100</td>\n",
       "      <td>421.62</td>\n",
       "      <td>38368598</td>\n",
       "      <td>-0.001539</td>\n",
       "    </tr>\n",
       "  </tbody>\n",
       "</table>\n",
       "</div>"
      ],
      "text/plain": [
       "                              AGG                                    \\\n",
       "                             open    high     low    close   volume   \n",
       "time                                                                  \n",
       "2021-06-03 00:00:00-04:00  114.31  114.46  114.21  114.210  3270096   \n",
       "2021-06-04 00:00:00-04:00  114.39  114.67  114.22  114.665  4334878   \n",
       "2021-06-07 00:00:00-04:00  113.97  114.64  113.97  114.595  3639918   \n",
       "2021-06-08 00:00:00-04:00  114.84  114.87  114.78  114.820  3951702   \n",
       "2021-06-09 00:00:00-04:00  115.43  115.43  114.97  115.050  3418086   \n",
       "\n",
       "                                           SPY                            \\\n",
       "                          daily_return    open    high       low   close   \n",
       "time                                                                       \n",
       "2021-06-03 00:00:00-04:00          NaN  417.87  419.99  416.2800  418.86   \n",
       "2021-06-04 00:00:00-04:00     0.003984  420.75  422.92  418.8422  422.57   \n",
       "2021-06-07 00:00:00-04:00    -0.000610  422.59  422.78  421.1900  422.23   \n",
       "2021-06-08 00:00:00-04:00     0.001963  423.11  423.21  420.3200  422.27   \n",
       "2021-06-09 00:00:00-04:00     0.002003  423.18  423.26  421.4100  421.62   \n",
       "\n",
       "                                                  \n",
       "                             volume daily_return  \n",
       "time                                              \n",
       "2021-06-03 00:00:00-04:00  51582905          NaN  \n",
       "2021-06-04 00:00:00-04:00  45129316     0.008857  \n",
       "2021-06-07 00:00:00-04:00  41442963    -0.000805  \n",
       "2021-06-08 00:00:00-04:00  40131441     0.000095  \n",
       "2021-06-09 00:00:00-04:00  38368598    -0.001539  "
      ]
     },
     "execution_count": 105,
     "metadata": {},
     "output_type": "execute_result"
    }
   ],
   "source": [
    "# Configure a Monte Carlo simulation to forecast 10 years cumulative returns\n",
    "# The weights should be split 20% to AGG and 80% to SPY.\n",
    "# Run 500 samples.\n",
    "\n",
    "MC_20_80 = MCSimulation(\n",
    "    portfolio_data = prices_df,\n",
    "    weights = [.20,.80],\n",
    "    num_simulation = 500,\n",
    "    num_trading_days = 252*10\n",
    ")\n",
    "\n",
    "\n",
    "# Review the simulation input data\n",
    "MC_20_80.portfolio_data.head()\n"
   ]
  },
  {
   "cell_type": "code",
   "execution_count": 106,
   "metadata": {},
   "outputs": [
    {
     "name": "stdout",
     "output_type": "stream",
     "text": [
      "Running Monte Carlo simulation number 0.\n",
      "Running Monte Carlo simulation number 10.\n",
      "Running Monte Carlo simulation number 20.\n",
      "Running Monte Carlo simulation number 30.\n",
      "Running Monte Carlo simulation number 40.\n",
      "Running Monte Carlo simulation number 50.\n",
      "Running Monte Carlo simulation number 60.\n",
      "Running Monte Carlo simulation number 70.\n",
      "Running Monte Carlo simulation number 80.\n",
      "Running Monte Carlo simulation number 90.\n",
      "Running Monte Carlo simulation number 100.\n",
      "Running Monte Carlo simulation number 110.\n",
      "Running Monte Carlo simulation number 120.\n",
      "Running Monte Carlo simulation number 130.\n",
      "Running Monte Carlo simulation number 140.\n",
      "Running Monte Carlo simulation number 150.\n",
      "Running Monte Carlo simulation number 160.\n",
      "Running Monte Carlo simulation number 170.\n",
      "Running Monte Carlo simulation number 180.\n",
      "Running Monte Carlo simulation number 190.\n",
      "Running Monte Carlo simulation number 200.\n",
      "Running Monte Carlo simulation number 210.\n",
      "Running Monte Carlo simulation number 220.\n",
      "Running Monte Carlo simulation number 230.\n",
      "Running Monte Carlo simulation number 240.\n",
      "Running Monte Carlo simulation number 250.\n",
      "Running Monte Carlo simulation number 260.\n",
      "Running Monte Carlo simulation number 270.\n",
      "Running Monte Carlo simulation number 280.\n",
      "Running Monte Carlo simulation number 290.\n",
      "Running Monte Carlo simulation number 300.\n",
      "Running Monte Carlo simulation number 310.\n",
      "Running Monte Carlo simulation number 320.\n",
      "Running Monte Carlo simulation number 330.\n",
      "Running Monte Carlo simulation number 340.\n",
      "Running Monte Carlo simulation number 350.\n",
      "Running Monte Carlo simulation number 360.\n",
      "Running Monte Carlo simulation number 370.\n",
      "Running Monte Carlo simulation number 380.\n",
      "Running Monte Carlo simulation number 390.\n",
      "Running Monte Carlo simulation number 400.\n",
      "Running Monte Carlo simulation number 410.\n",
      "Running Monte Carlo simulation number 420.\n",
      "Running Monte Carlo simulation number 430.\n",
      "Running Monte Carlo simulation number 440.\n",
      "Running Monte Carlo simulation number 450.\n",
      "Running Monte Carlo simulation number 460.\n",
      "Running Monte Carlo simulation number 470.\n",
      "Running Monte Carlo simulation number 480.\n",
      "Running Monte Carlo simulation number 490.\n"
     ]
    },
    {
     "data": {
      "text/html": [
       "<div>\n",
       "<style scoped>\n",
       "    .dataframe tbody tr th:only-of-type {\n",
       "        vertical-align: middle;\n",
       "    }\n",
       "\n",
       "    .dataframe tbody tr th {\n",
       "        vertical-align: top;\n",
       "    }\n",
       "\n",
       "    .dataframe thead th {\n",
       "        text-align: right;\n",
       "    }\n",
       "</style>\n",
       "<table border=\"1\" class=\"dataframe\">\n",
       "  <thead>\n",
       "    <tr style=\"text-align: right;\">\n",
       "      <th></th>\n",
       "      <th>0</th>\n",
       "      <th>1</th>\n",
       "      <th>2</th>\n",
       "      <th>3</th>\n",
       "      <th>4</th>\n",
       "      <th>5</th>\n",
       "      <th>6</th>\n",
       "      <th>7</th>\n",
       "      <th>8</th>\n",
       "      <th>9</th>\n",
       "      <th>...</th>\n",
       "      <th>490</th>\n",
       "      <th>491</th>\n",
       "      <th>492</th>\n",
       "      <th>493</th>\n",
       "      <th>494</th>\n",
       "      <th>495</th>\n",
       "      <th>496</th>\n",
       "      <th>497</th>\n",
       "      <th>498</th>\n",
       "      <th>499</th>\n",
       "    </tr>\n",
       "  </thead>\n",
       "  <tbody>\n",
       "    <tr>\n",
       "      <th>0</th>\n",
       "      <td>1.000000</td>\n",
       "      <td>1.000000</td>\n",
       "      <td>1.000000</td>\n",
       "      <td>1.000000</td>\n",
       "      <td>1.000000</td>\n",
       "      <td>1.000000</td>\n",
       "      <td>1.000000</td>\n",
       "      <td>1.000000</td>\n",
       "      <td>1.000000</td>\n",
       "      <td>1.000000</td>\n",
       "      <td>...</td>\n",
       "      <td>1.000000</td>\n",
       "      <td>1.000000</td>\n",
       "      <td>1.000000</td>\n",
       "      <td>1.000000</td>\n",
       "      <td>1.000000</td>\n",
       "      <td>1.000000</td>\n",
       "      <td>1.000000</td>\n",
       "      <td>1.000000</td>\n",
       "      <td>1.000000</td>\n",
       "      <td>1.000000</td>\n",
       "    </tr>\n",
       "    <tr>\n",
       "      <th>1</th>\n",
       "      <td>1.006648</td>\n",
       "      <td>1.009231</td>\n",
       "      <td>1.008729</td>\n",
       "      <td>0.999353</td>\n",
       "      <td>1.009273</td>\n",
       "      <td>1.007042</td>\n",
       "      <td>1.009241</td>\n",
       "      <td>1.003805</td>\n",
       "      <td>0.996838</td>\n",
       "      <td>1.004660</td>\n",
       "      <td>...</td>\n",
       "      <td>0.998296</td>\n",
       "      <td>1.003230</td>\n",
       "      <td>1.002400</td>\n",
       "      <td>1.001430</td>\n",
       "      <td>0.993111</td>\n",
       "      <td>0.995695</td>\n",
       "      <td>0.998502</td>\n",
       "      <td>1.013555</td>\n",
       "      <td>0.999414</td>\n",
       "      <td>1.001778</td>\n",
       "    </tr>\n",
       "    <tr>\n",
       "      <th>2</th>\n",
       "      <td>1.002704</td>\n",
       "      <td>1.012644</td>\n",
       "      <td>1.009861</td>\n",
       "      <td>0.991180</td>\n",
       "      <td>1.000764</td>\n",
       "      <td>1.011228</td>\n",
       "      <td>1.006678</td>\n",
       "      <td>1.005605</td>\n",
       "      <td>0.990531</td>\n",
       "      <td>1.000441</td>\n",
       "      <td>...</td>\n",
       "      <td>0.998895</td>\n",
       "      <td>1.004343</td>\n",
       "      <td>1.009306</td>\n",
       "      <td>1.003884</td>\n",
       "      <td>0.989694</td>\n",
       "      <td>1.007029</td>\n",
       "      <td>1.003027</td>\n",
       "      <td>1.020844</td>\n",
       "      <td>1.001867</td>\n",
       "      <td>1.000488</td>\n",
       "    </tr>\n",
       "    <tr>\n",
       "      <th>3</th>\n",
       "      <td>1.000467</td>\n",
       "      <td>1.006733</td>\n",
       "      <td>1.007807</td>\n",
       "      <td>0.991221</td>\n",
       "      <td>1.005979</td>\n",
       "      <td>1.027558</td>\n",
       "      <td>1.007415</td>\n",
       "      <td>1.014401</td>\n",
       "      <td>0.987907</td>\n",
       "      <td>1.010291</td>\n",
       "      <td>...</td>\n",
       "      <td>1.001917</td>\n",
       "      <td>1.005417</td>\n",
       "      <td>1.004800</td>\n",
       "      <td>0.999972</td>\n",
       "      <td>0.993025</td>\n",
       "      <td>1.014653</td>\n",
       "      <td>1.007940</td>\n",
       "      <td>1.020610</td>\n",
       "      <td>1.008325</td>\n",
       "      <td>1.002475</td>\n",
       "    </tr>\n",
       "    <tr>\n",
       "      <th>4</th>\n",
       "      <td>0.998669</td>\n",
       "      <td>1.005811</td>\n",
       "      <td>1.011147</td>\n",
       "      <td>0.989640</td>\n",
       "      <td>1.006719</td>\n",
       "      <td>1.036067</td>\n",
       "      <td>1.016882</td>\n",
       "      <td>1.014252</td>\n",
       "      <td>0.978111</td>\n",
       "      <td>1.003096</td>\n",
       "      <td>...</td>\n",
       "      <td>1.005124</td>\n",
       "      <td>1.006420</td>\n",
       "      <td>1.008735</td>\n",
       "      <td>1.007146</td>\n",
       "      <td>0.997396</td>\n",
       "      <td>1.012180</td>\n",
       "      <td>1.011529</td>\n",
       "      <td>1.019375</td>\n",
       "      <td>1.012283</td>\n",
       "      <td>1.003726</td>\n",
       "    </tr>\n",
       "    <tr>\n",
       "      <th>...</th>\n",
       "      <td>...</td>\n",
       "      <td>...</td>\n",
       "      <td>...</td>\n",
       "      <td>...</td>\n",
       "      <td>...</td>\n",
       "      <td>...</td>\n",
       "      <td>...</td>\n",
       "      <td>...</td>\n",
       "      <td>...</td>\n",
       "      <td>...</td>\n",
       "      <td>...</td>\n",
       "      <td>...</td>\n",
       "      <td>...</td>\n",
       "      <td>...</td>\n",
       "      <td>...</td>\n",
       "      <td>...</td>\n",
       "      <td>...</td>\n",
       "      <td>...</td>\n",
       "      <td>...</td>\n",
       "      <td>...</td>\n",
       "      <td>...</td>\n",
       "    </tr>\n",
       "    <tr>\n",
       "      <th>2516</th>\n",
       "      <td>3.244000</td>\n",
       "      <td>3.945076</td>\n",
       "      <td>7.236664</td>\n",
       "      <td>3.700301</td>\n",
       "      <td>4.952069</td>\n",
       "      <td>4.403823</td>\n",
       "      <td>6.635305</td>\n",
       "      <td>3.104755</td>\n",
       "      <td>4.891787</td>\n",
       "      <td>5.094939</td>\n",
       "      <td>...</td>\n",
       "      <td>4.355975</td>\n",
       "      <td>4.291399</td>\n",
       "      <td>5.826948</td>\n",
       "      <td>5.637477</td>\n",
       "      <td>6.372585</td>\n",
       "      <td>2.952738</td>\n",
       "      <td>5.933988</td>\n",
       "      <td>5.747250</td>\n",
       "      <td>3.600862</td>\n",
       "      <td>7.193846</td>\n",
       "    </tr>\n",
       "    <tr>\n",
       "      <th>2517</th>\n",
       "      <td>3.267365</td>\n",
       "      <td>3.919312</td>\n",
       "      <td>7.227003</td>\n",
       "      <td>3.720947</td>\n",
       "      <td>4.992850</td>\n",
       "      <td>4.386269</td>\n",
       "      <td>6.616706</td>\n",
       "      <td>3.113512</td>\n",
       "      <td>4.881398</td>\n",
       "      <td>5.085722</td>\n",
       "      <td>...</td>\n",
       "      <td>4.357643</td>\n",
       "      <td>4.270578</td>\n",
       "      <td>5.831425</td>\n",
       "      <td>5.694925</td>\n",
       "      <td>6.427207</td>\n",
       "      <td>2.964559</td>\n",
       "      <td>5.945601</td>\n",
       "      <td>5.734989</td>\n",
       "      <td>3.624455</td>\n",
       "      <td>7.213085</td>\n",
       "    </tr>\n",
       "    <tr>\n",
       "      <th>2518</th>\n",
       "      <td>3.294188</td>\n",
       "      <td>3.937768</td>\n",
       "      <td>7.203396</td>\n",
       "      <td>3.713552</td>\n",
       "      <td>4.993514</td>\n",
       "      <td>4.373898</td>\n",
       "      <td>6.610057</td>\n",
       "      <td>3.133712</td>\n",
       "      <td>4.879976</td>\n",
       "      <td>5.122297</td>\n",
       "      <td>...</td>\n",
       "      <td>4.384355</td>\n",
       "      <td>4.279086</td>\n",
       "      <td>5.806067</td>\n",
       "      <td>5.660483</td>\n",
       "      <td>6.441160</td>\n",
       "      <td>2.983878</td>\n",
       "      <td>5.996169</td>\n",
       "      <td>5.734231</td>\n",
       "      <td>3.603270</td>\n",
       "      <td>7.185146</td>\n",
       "    </tr>\n",
       "    <tr>\n",
       "      <th>2519</th>\n",
       "      <td>3.288180</td>\n",
       "      <td>3.925287</td>\n",
       "      <td>7.204767</td>\n",
       "      <td>3.689870</td>\n",
       "      <td>5.004144</td>\n",
       "      <td>4.395291</td>\n",
       "      <td>6.588554</td>\n",
       "      <td>3.150017</td>\n",
       "      <td>4.806559</td>\n",
       "      <td>5.201236</td>\n",
       "      <td>...</td>\n",
       "      <td>4.386440</td>\n",
       "      <td>4.275190</td>\n",
       "      <td>5.804922</td>\n",
       "      <td>5.647967</td>\n",
       "      <td>6.461824</td>\n",
       "      <td>2.984514</td>\n",
       "      <td>6.050968</td>\n",
       "      <td>5.734367</td>\n",
       "      <td>3.614541</td>\n",
       "      <td>7.156509</td>\n",
       "    </tr>\n",
       "    <tr>\n",
       "      <th>2520</th>\n",
       "      <td>3.268588</td>\n",
       "      <td>3.932384</td>\n",
       "      <td>7.197908</td>\n",
       "      <td>3.687010</td>\n",
       "      <td>4.975992</td>\n",
       "      <td>4.409968</td>\n",
       "      <td>6.560534</td>\n",
       "      <td>3.140258</td>\n",
       "      <td>4.788647</td>\n",
       "      <td>5.186149</td>\n",
       "      <td>...</td>\n",
       "      <td>4.396944</td>\n",
       "      <td>4.254739</td>\n",
       "      <td>5.760510</td>\n",
       "      <td>5.682662</td>\n",
       "      <td>6.495729</td>\n",
       "      <td>2.992917</td>\n",
       "      <td>6.066516</td>\n",
       "      <td>5.803988</td>\n",
       "      <td>3.655689</td>\n",
       "      <td>7.186478</td>\n",
       "    </tr>\n",
       "  </tbody>\n",
       "</table>\n",
       "<p>2521 rows × 500 columns</p>\n",
       "</div>"
      ],
      "text/plain": [
       "           0         1         2         3         4         5         6    \\\n",
       "0     1.000000  1.000000  1.000000  1.000000  1.000000  1.000000  1.000000   \n",
       "1     1.006648  1.009231  1.008729  0.999353  1.009273  1.007042  1.009241   \n",
       "2     1.002704  1.012644  1.009861  0.991180  1.000764  1.011228  1.006678   \n",
       "3     1.000467  1.006733  1.007807  0.991221  1.005979  1.027558  1.007415   \n",
       "4     0.998669  1.005811  1.011147  0.989640  1.006719  1.036067  1.016882   \n",
       "...        ...       ...       ...       ...       ...       ...       ...   \n",
       "2516  3.244000  3.945076  7.236664  3.700301  4.952069  4.403823  6.635305   \n",
       "2517  3.267365  3.919312  7.227003  3.720947  4.992850  4.386269  6.616706   \n",
       "2518  3.294188  3.937768  7.203396  3.713552  4.993514  4.373898  6.610057   \n",
       "2519  3.288180  3.925287  7.204767  3.689870  5.004144  4.395291  6.588554   \n",
       "2520  3.268588  3.932384  7.197908  3.687010  4.975992  4.409968  6.560534   \n",
       "\n",
       "           7         8         9    ...       490       491       492  \\\n",
       "0     1.000000  1.000000  1.000000  ...  1.000000  1.000000  1.000000   \n",
       "1     1.003805  0.996838  1.004660  ...  0.998296  1.003230  1.002400   \n",
       "2     1.005605  0.990531  1.000441  ...  0.998895  1.004343  1.009306   \n",
       "3     1.014401  0.987907  1.010291  ...  1.001917  1.005417  1.004800   \n",
       "4     1.014252  0.978111  1.003096  ...  1.005124  1.006420  1.008735   \n",
       "...        ...       ...       ...  ...       ...       ...       ...   \n",
       "2516  3.104755  4.891787  5.094939  ...  4.355975  4.291399  5.826948   \n",
       "2517  3.113512  4.881398  5.085722  ...  4.357643  4.270578  5.831425   \n",
       "2518  3.133712  4.879976  5.122297  ...  4.384355  4.279086  5.806067   \n",
       "2519  3.150017  4.806559  5.201236  ...  4.386440  4.275190  5.804922   \n",
       "2520  3.140258  4.788647  5.186149  ...  4.396944  4.254739  5.760510   \n",
       "\n",
       "           493       494       495       496       497       498       499  \n",
       "0     1.000000  1.000000  1.000000  1.000000  1.000000  1.000000  1.000000  \n",
       "1     1.001430  0.993111  0.995695  0.998502  1.013555  0.999414  1.001778  \n",
       "2     1.003884  0.989694  1.007029  1.003027  1.020844  1.001867  1.000488  \n",
       "3     0.999972  0.993025  1.014653  1.007940  1.020610  1.008325  1.002475  \n",
       "4     1.007146  0.997396  1.012180  1.011529  1.019375  1.012283  1.003726  \n",
       "...        ...       ...       ...       ...       ...       ...       ...  \n",
       "2516  5.637477  6.372585  2.952738  5.933988  5.747250  3.600862  7.193846  \n",
       "2517  5.694925  6.427207  2.964559  5.945601  5.734989  3.624455  7.213085  \n",
       "2518  5.660483  6.441160  2.983878  5.996169  5.734231  3.603270  7.185146  \n",
       "2519  5.647967  6.461824  2.984514  6.050968  5.734367  3.614541  7.156509  \n",
       "2520  5.682662  6.495729  2.992917  6.066516  5.803988  3.655689  7.186478  \n",
       "\n",
       "[2521 rows x 500 columns]"
      ]
     },
     "execution_count": 106,
     "metadata": {},
     "output_type": "execute_result"
    }
   ],
   "source": [
    "# Run the Monte Carlo simulation to forecast 10 years cumulative returns\n",
    "MC_20_80.calc_cumulative_return()\n"
   ]
  },
  {
   "cell_type": "code",
   "execution_count": 107,
   "metadata": {},
   "outputs": [
    {
     "data": {
      "image/png": "[encoded data removed]",
      "text/plain": [
       "<Figure size 432x288 with 1 Axes>"
      ]
     },
     "metadata": {
      "needs_background": "light"
     },
     "output_type": "display_data"
    }
   ],
   "source": [
    "# Visualize the 10-year Monte Carlo simulation by creating an\n",
    "# overlay line plot\n",
    "MC_20_80_line = MC_20_80.plot_simulation()\n"
   ]
  },
  {
   "cell_type": "code",
   "execution_count": 108,
   "metadata": {},
   "outputs": [
    {
     "data": {
      "image/png": "[encoded data removed]",
      "text/plain": [
       "<Figure size 432x288 with 1 Axes>"
      ]
     },
     "metadata": {
      "needs_background": "light"
     },
     "output_type": "display_data"
    }
   ],
   "source": [
    "# Visualize the probability distribution of the 10-year Monte Carlo simulation \n",
    "# by plotting a histogram\n",
    "MC_20_80_dist = MC_20_80.plot_distribution()\n"
   ]
  },
  {
   "cell_type": "code",
   "execution_count": 109,
   "metadata": {},
   "outputs": [
    {
     "data": {
      "text/plain": [
       "count           500.000000\n",
       "mean              5.240362\n",
       "std               1.513957\n",
       "min               2.330651\n",
       "25%               4.133552\n",
       "50%               5.059558\n",
       "75%               6.183350\n",
       "max              11.124433\n",
       "95% CI Lower      2.857101\n",
       "95% CI Upper      8.528614\n",
       "Name: 2520, dtype: float64"
      ]
     },
     "execution_count": 109,
     "metadata": {},
     "output_type": "execute_result"
    }
   ],
   "source": [
    "# Generate summary statistics from the 10-year Monte Carlo simulation results\n",
    "# Save the results as a variable\n",
    "\n",
    "twenty_eighty_summary = MC_20_80.summarize_cumulative_return()\n",
    "\n",
    "# Review the 10-year Monte Carlo summary statistics\n",
    "twenty_eighty_summary"
   ]
  },
  {
   "cell_type": "markdown",
   "metadata": {},
   "source": [
    "### Answer the following questions:"
   ]
  },
  {
   "cell_type": "markdown",
   "metadata": {},
   "source": [
    "#### Question: Using the current value of only the stock and bond portion of the member's portfolio and the summary statistics that you generated from the new Monte Carlo simulation, what are the lower and upper bounds for the expected value of the portfolio (with the new weights) with a 95% confidence interval?"
   ]
  },
  {
   "cell_type": "code",
   "execution_count": 110,
   "metadata": {},
   "outputs": [
    {
     "name": "stdout",
     "output_type": "stream",
     "text": [
      "158710.108\n"
     ]
    }
   ],
   "source": [
    "# Print the current balance of the stock and bond portion of the members portfolio\n",
    "print(total_portfolio)\n"
   ]
  },
  {
   "cell_type": "code",
   "execution_count": 111,
   "metadata": {},
   "outputs": [
    {
     "name": "stdout",
     "output_type": "stream",
     "text": [
      "The lower thrity CI is 192451.87 while the upper 30 CI is 289129.77\n"
     ]
    }
   ],
   "source": [
    "# Use the lower and upper `95%` confidence intervals to calculate the range of the possible outcomes for the current stock/bond portfolio\n",
    "ci_lower_ten_cumulative_return = round(eighty_twenty_summary[8]*158710,2 )\n",
    "ci_upper_ten_cumulative_return = round(eighty_twenty_summary[9]*158710,2 )\n",
    "\n",
    "\n",
    "# Print the result of your calculations\n",
    "print(f'The lower thrity CI is {ci_lower_ten_cumulative_return} while the upper 30 CI is {ci_upper_ten_cumulative_return}')"
   ]
  },
  {
   "cell_type": "markdown",
   "metadata": {},
   "source": [
    "#### Question: Will weighting the portfolio more heavily to stocks allow the credit union members to retire after only 10 years?"
   ]
  },
  {
   "cell_type": "raw",
   "metadata": {},
   "source": [
    "**Answer** No.  The benifit of investing over 30 years with lower risk is still a greater total balance than investing more aggressivly for only 10.  "
   ]
  },
  {
   "cell_type": "code",
   "execution_count": null,
   "metadata": {},
   "outputs": [],
   "source": []
  }
 ],
 "metadata": {
  "kernelspec": {
   "display_name": "Python 3",
   "language": "python",
   "name": "python3"
  },
  "language_info": {
   "codemirror_mode": {
    "name": "ipython",
    "version": 3
   },
   "file_extension": ".py",
   "mimetype": "text/x-python",
   "name": "python",
   "nbconvert_exporter": "python",
   "pygments_lexer": "ipython3",
   "version": "3.8.8"
  }
 },
 "nbformat": 4,
 "nbformat_minor": 4
}
